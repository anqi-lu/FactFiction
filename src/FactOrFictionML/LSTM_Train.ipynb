{
 "cells": [
  {
   "cell_type": "markdown",
   "metadata": {},
   "source": [
    "# Simple LSTM model"
   ]
  },
  {
   "cell_type": "code",
   "execution_count": 1,
   "metadata": {},
   "outputs": [
    {
     "name": "stdout",
     "output_type": "stream",
     "text": [
      "2.3\n"
     ]
    }
   ],
   "source": [
    "import os\n",
    "import cntk as C\n",
    "import numpy as np\n",
    "import copy\n",
    "import matplotlib.pyplot as plt\n",
    "import cntk.tests.test_utils\n",
    "cntk.tests.test_utils.set_device_from_pytest_env() # (only needed for our build system)\n",
    "C.cntk_py.set_fixed_random_seed(1) # fix a random seed for CNTK components\n",
    "%matplotlib inline\n",
    "\n",
    "azureml_share_env = 'AZUREML_NATIVE_SHARE_DIRECTORY'\n",
    "is_azure_ml = azureml_share_env in os.environ\n",
    "share_path = os.environ[azureml_share_env] if is_azure_ml else '../../'\n",
    "\n",
    "train_path = os.path.join(share_path, \"data/final/final.train.ctf\")\n",
    "val_path = os.path.join(share_path, \"data/final/final.val.ctf\")\n",
    "test_path = os.path.join(share_path, \"data/final/final.test.ctf\")\n",
    "\n",
    "print(C.__version__)"
   ]
  },
  {
   "cell_type": "code",
   "execution_count": 6,
   "metadata": {},
   "outputs": [],
   "source": [
    "# Creates the reader\n",
    "def create_reader(path, is_training, input_dim, label_dim):\n",
    "    return C.io.MinibatchSource(C.io.CTFDeserializer(path, C.io.StreamDefs(\n",
    "        features = C.io.StreamDef(field='S0', shape=input_dim,   is_sparse=True),\n",
    "        labels   = C.io.StreamDef(field='S1', shape=label_dim,   is_sparse=False)\n",
    "    )), randomize=is_training, max_sweeps = C.io.INFINITELY_REPEAT if is_training else 1)\n",
    "\n",
    "# Defines the LSTM model for classifying sequences\n",
    "def lstm_sequence_classifier(features, num_classes, embedding_dim, LSTM_dim):\n",
    "    classifier = C.layers.Sequential([C.layers.Embedding(embedding_dim, name='embed'),\n",
    "                                      C.layers.Recurrence(C.layers.LSTM(LSTM_dim), go_backwards=False),\n",
    "                                      C.sequence.last,\n",
    "                                      C.layers.Dense(num_classes, name='dense')])\n",
    "    return classifier(features)"
   ]
  },
  {
   "cell_type": "markdown",
   "metadata": {},
   "source": [
    "#### Train the model"
   ]
  },
  {
   "cell_type": "code",
   "execution_count": 7,
   "metadata": {},
   "outputs": [],
   "source": [
    "class HistoryTracker(C.logging.TrainingSummaryProgressCallback):\n",
    "    \n",
    "    def __init__(self, epoch_size):\n",
    "        def do_nothing():\n",
    "            pass\n",
    "        super(HistoryTracker, self).__init__(epoch_size, do_nothing)\n",
    "        self.train_history = []\n",
    "        self.test_history = []\n",
    "    \n",
    "    def on_write_training_summary(self, samples, updates, summaries, aggregate_loss, aggregate_metric, elapsed_milliseconds):\n",
    "        self.train_history.append(aggregate_metric*1.0/samples)\n",
    "        \n",
    "    def on_write_test_summary(self, samples, updates, summaries, aggregate_metric, elapsed_milliseconds):\n",
    "        self.test_history.append(aggregate_metric*1.0/samples)\n",
    "\n",
    "\n",
    "def train(reader, reader_val, model, loss, metric, max_epochs=10):\n",
    "    epoch_size = 9206 # Total number of sequences\n",
    "    minibatch_size = 300 # Minimum number of tokens being fetched in a minibatch\n",
    "\n",
    "    epoch_size_val = 1150\n",
    "\n",
    "    progress_printer = C.logging.ProgressPrinter(freq=150,\n",
    "                                                 tag='Training',\n",
    "                                                 num_epochs=max_epochs)\n",
    "    \n",
    "    # epoch_size*20 is the estimate of the total number of tokens\n",
    "    history_tracker = HistoryTracker(epoch_size*20)\n",
    "    \n",
    "    # SGD learner\n",
    "    #lr_per_sample = C.learners.learning_rate_schedule(0.0015, C.learners.UnitType.sample)\n",
    "    # learner = C.learners.sgd(model.parameters, lr=lr_per_sample)\n",
    "\n",
    "    lr_schedule = C.learning_parameter_schedule([1.0]*3 + [0.8]*2 + [0.6]*1,\n",
    "                                                 minibatch_size=C.learners.IGNORE,\n",
    "                                                 epoch_size=epoch_size)\n",
    "    t_schedule = C.momentum_schedule(0.971, minibatch_size=C.learners.IGNORE)\n",
    "    learner = adadelta = C.adadelta(model.parameters, lr_schedule, 0.999, 1e-6)\n",
    "\n",
    "    trainer = C.Trainer(model, (loss, metric),\n",
    "                        learner,\n",
    "                        [progress_printer, history_tracker])\n",
    "\n",
    "    input_map = {\n",
    "        features : reader.streams.features,\n",
    "        labels   : reader.streams.labels\n",
    "    }\n",
    "    \n",
    "    for epoch in range(max_epochs):\n",
    "        # Train on one epoch\n",
    "        t = 0\n",
    "        while t < epoch_size:\n",
    "            mb = reader.next_minibatch(minibatch_size, input_map=input_map)\n",
    "            trainer.train_minibatch(mb)\n",
    "            t += mb[labels].num_samples # Current number of read sequences\n",
    "        trainer.summarize_training_progress()\n",
    "\n",
    "        # Evaluate validation set after one epoch\n",
    "        t = 0\n",
    "        while t < epoch_size_val:\n",
    "            mb = reader_val.next_minibatch(minibatch_size, input_map=input_map)\n",
    "            trainer.test_minibatch(mb)\n",
    "            t += mb[labels].num_samples\n",
    "\n",
    "        trainer.summarize_test_progress()\n",
    "    \n",
    "    return (history_tracker.train_history, history_tracker.test_history)"
   ]
  },
  {
   "cell_type": "code",
   "execution_count": 8,
   "metadata": {
    "scrolled": false
   },
   "outputs": [
    {
     "name": "stdout",
     "output_type": "stream",
     "text": [
      "Learning rate per minibatch: 1.0\n",
      " Minibatch[   1- 150]: loss = 0.765841 * 1802, metric = 49.89% * 1802;\n",
      " Minibatch[ 151- 300]: loss = 0.723176 * 1809, metric = 47.82% * 1809;\n",
      " Minibatch[ 301- 450]: loss = 0.724666 * 1852, metric = 48.43% * 1852;\n",
      " Minibatch[ 451- 600]: loss = 0.660381 * 1823, metric = 35.44% * 1823;\n",
      " Minibatch[ 601- 750]: loss = 0.590198 * 1843, metric = 25.99% * 1843;\n",
      "Finished Epoch[1 of 10]: [Training] loss = 0.690416 * 9213, metric = 41.27% * 9213 46.400s (198.6 samples/s);\n",
      "Finished Evaluation [1]: Minibatch[1-95]: metric = 22.16% * 1155;\n",
      " Minibatch[   1- 150]: loss = 0.507305 * 1781, metric = 20.89% * 1781;\n",
      " Minibatch[ 151- 300]: loss = 0.514613 * 1826, metric = 23.06% * 1826;\n",
      " Minibatch[ 301- 450]: loss = 0.484044 * 1849, metric = 20.44% * 1849;\n",
      " Minibatch[ 451- 600]: loss = 0.501494 * 1815, metric = 21.21% * 1815;\n",
      " Minibatch[ 601- 750]: loss = 0.446122 * 1842, metric = 17.97% * 1842;\n",
      "Finished Epoch[2 of 10]: [Training] loss = 0.489118 * 9209, metric = 20.62% * 9209 49.382s (186.5 samples/s);\n",
      "Finished Evaluation [2]: Minibatch[1-95]: metric = 16.02% * 1155;\n",
      " Minibatch[   1- 150]: loss = 0.417499 * 1794, metric = 15.83% * 1794;\n",
      " Minibatch[ 151- 300]: loss = 0.379141 * 1839, metric = 14.95% * 1839;\n",
      " Minibatch[ 301- 450]: loss = 0.391119 * 1849, metric = 14.06% * 1849;\n",
      " Minibatch[ 451- 600]: loss = 0.325009 * 1807, metric = 11.95% * 1807;\n",
      " Minibatch[ 601- 750]: loss = 0.366889 * 1835, metric = 13.95% * 1835;\n",
      "Finished Epoch[3 of 10]: [Training] loss = 0.374767 * 9206, metric = 14.10% * 9206 49.329s (186.6 samples/s);\n",
      "Finished Evaluation [3]: Minibatch[1-95]: metric = 19.22% * 1160;\n",
      "Learning rate per minibatch: 0.8\n",
      " Minibatch[   1- 150]: loss = 0.248280 * 1805, metric = 8.31% * 1805;\n",
      " Minibatch[ 151- 300]: loss = 0.273338 * 1832, metric = 10.04% * 1832;\n",
      " Minibatch[ 301- 450]: loss = 0.253758 * 1825, metric = 9.37% * 1825;\n",
      " Minibatch[ 451- 600]: loss = 0.249435 * 1812, metric = 8.89% * 1812;\n",
      " Minibatch[ 601- 750]: loss = 0.286351 * 1828, metric = 9.41% * 1828;\n",
      "Finished Epoch[4 of 10]: [Training] loss = 0.261290 * 9209, metric = 9.15% * 9209 47.957s (192.0 samples/s);\n",
      "Finished Evaluation [4]: Minibatch[1-95]: metric = 11.84% * 1157;\n",
      " Minibatch[   1- 150]: loss = 0.185148 * 1853, metric = 6.15% * 1853;\n",
      " Minibatch[ 151- 300]: loss = 0.139826 * 1805, metric = 4.93% * 1805;\n",
      " Minibatch[ 301- 450]: loss = 0.166568 * 1833, metric = 5.02% * 1833;\n",
      " Minibatch[ 451- 600]: loss = 0.171915 * 1811, metric = 5.91% * 1811;\n",
      " Minibatch[ 601- 750]: loss = 0.138049 * 1805, metric = 4.38% * 1805;\n",
      "Learning rate per minibatch: 0.6\n",
      "Finished Epoch[5 of 10]: [Training] loss = 0.159648 * 9215, metric = 5.24% * 9215 48.803s (188.8 samples/s);\n",
      "Finished Evaluation [5]: Minibatch[1-95]: metric = 12.47% * 1163;\n",
      " Minibatch[   1- 150]: loss = 0.089344 * 1850, metric = 2.97% * 1850;\n",
      " Minibatch[ 151- 300]: loss = 0.063861 * 1806, metric = 1.77% * 1806;\n",
      " Minibatch[ 301- 450]: loss = 0.105702 * 1800, metric = 3.39% * 1800;\n",
      " Minibatch[ 451- 600]: loss = 0.083478 * 1839, metric = 2.45% * 1839;\n",
      " Minibatch[ 601- 750]: loss = 0.087788 * 1805, metric = 2.60% * 1805;\n",
      "Finished Epoch[6 of 10]: [Training] loss = 0.085748 * 9216, metric = 2.65% * 9216 45.360s (203.2 samples/s);\n",
      "Finished Evaluation [6]: Minibatch[1-96]: metric = 12.86% * 1159;\n",
      " Minibatch[   1- 150]: loss = 0.045139 * 1820, metric = 1.70% * 1820;\n",
      " Minibatch[ 151- 300]: loss = 0.068598 * 1819, metric = 2.25% * 1819;\n",
      " Minibatch[ 301- 450]: loss = 0.058375 * 1842, metric = 1.57% * 1842;\n",
      " Minibatch[ 451- 600]: loss = 0.047155 * 1808, metric = 1.05% * 1808;\n",
      " Minibatch[ 601- 750]: loss = 0.051907 * 1827, metric = 1.59% * 1827;\n",
      "Finished Epoch[7 of 10]: [Training] loss = 0.054150 * 9216, metric = 1.64% * 9216 49.037s (187.9 samples/s);\n",
      "Finished Evaluation [7]: Minibatch[1-95]: metric = 12.92% * 1153;\n",
      " Minibatch[   1- 150]: loss = 0.032102 * 1865, metric = 0.91% * 1865;\n",
      " Minibatch[ 151- 300]: loss = 0.041172 * 1839, metric = 1.09% * 1839;\n",
      " Minibatch[ 301- 450]: loss = 0.037468 * 1795, metric = 0.89% * 1795;\n",
      " Minibatch[ 451- 600]: loss = 0.044419 * 1826, metric = 1.15% * 1826;\n",
      " Minibatch[ 601- 750]: loss = 0.026060 * 1778, metric = 0.84% * 1778;\n",
      "Finished Epoch[8 of 10]: [Training] loss = 0.036012 * 9212, metric = 0.98% * 9212 49.841s (184.8 samples/s);\n",
      "Finished Evaluation [8]: Minibatch[1-96]: metric = 12.60% * 1159;\n",
      " Minibatch[   1- 150]: loss = 0.033967 * 1794, metric = 0.84% * 1794;\n",
      " Minibatch[ 151- 300]: loss = 0.015624 * 1806, metric = 0.50% * 1806;\n",
      " Minibatch[ 301- 450]: loss = 0.015793 * 1845, metric = 0.43% * 1845;\n",
      " Minibatch[ 451- 600]: loss = 0.022092 * 1855, metric = 0.54% * 1855;\n",
      " Minibatch[ 601- 750]: loss = 0.027759 * 1852, metric = 0.54% * 1852;\n",
      "Finished Epoch[9 of 10]: [Training] loss = 0.022868 * 9219, metric = 0.56% * 9219 48.778s (189.0 samples/s);\n",
      "Finished Evaluation [9]: Minibatch[1-94]: metric = 13.30% * 1150;\n",
      " Minibatch[   1- 150]: loss = 0.018069 * 1812, metric = 0.39% * 1812;\n",
      " Minibatch[ 151- 300]: loss = 0.019382 * 1826, metric = 0.44% * 1826;\n",
      " Minibatch[ 301- 450]: loss = 0.022197 * 1817, metric = 0.44% * 1817;\n",
      " Minibatch[ 451- 600]: loss = 0.012880 * 1830, metric = 0.33% * 1830;\n",
      " Minibatch[ 601- 750]: loss = 0.009302 * 1839, metric = 0.22% * 1839;\n",
      "Finished Epoch[10 of 10]: [Training] loss = 0.016190 * 9215, metric = 0.36% * 9215 49.748s (185.2 samples/s);\n",
      "Finished Evaluation [10]: Minibatch[1-95]: metric = 12.90% * 1155;\n"
     ]
    }
   ],
   "source": [
    "vocab_size = 101590\n",
    "\n",
    "# Model dimensions\n",
    "input_dim = vocab_size\n",
    "hidden_dim = 500\n",
    "embedding_dim = 400\n",
    "num_classes = 3\n",
    "\n",
    "reader = create_reader(train_path, True, input_dim, num_classes)\n",
    "reader_val = create_reader(val_path, True, input_dim, num_classes)\n",
    "\n",
    "# Input variables denoting the features and label data\n",
    "features = C.sequence.input_variable(shape=input_dim, is_sparse=True)\n",
    "labels = C.input_variable(num_classes)\n",
    "\n",
    "# Instantiate the sequence classification model\n",
    "model_func = lstm_sequence_classifier(features, num_classes, embedding_dim, hidden_dim)\n",
    "model = model_func(features)\n",
    "\n",
    "# Create criterion\n",
    "loss        = C.cross_entropy_with_softmax(model, labels)\n",
    "label_error = C.classification_error(model, labels)\n",
    "\n",
    "history = train(reader, reader_val, model, loss, label_error)"
   ]
  },
  {
   "cell_type": "code",
   "execution_count": 19,
   "metadata": {},
   "outputs": [
    {
     "data": {
      "image/png": "[encoded data removed]",
      "text/plain": [
       "<matplotlib.figure.Figure at 0x7f1c7355d2b0>"
      ]
     },
     "metadata": {},
     "output_type": "display_data"
    }
   ],
   "source": [
    "fig, ax = plt.subplots(1)\n",
    "ax.plot(history[0], 'rx-', label='Train error')\n",
    "ax.plot(history[1], 'bo-', label='Validation error')\n",
    "ax.set_xlabel('epoch')\n",
    "ax.set_ylabel('error rate')\n",
    "ax.yaxis.grid('on')\n",
    "ax.legend()\n",
    "\n",
    "fig.savefig('outputs/train_history.png')\n"
   ]
  },
  {
   "cell_type": "markdown",
   "metadata": {},
   "source": [
    "#### Test the model"
   ]
  },
  {
   "cell_type": "code",
   "execution_count": 11,
   "metadata": {},
   "outputs": [
    {
     "name": "stdout",
     "output_type": "stream",
     "text": [
      "Finished Evaluation [1]: Minibatch[1-28]: metric = 13.99% * 1151;\n"
     ]
    }
   ],
   "source": [
    "reader_test = create_reader(val_path, False, input_dim, num_classes)\n",
    "\n",
    "test_minibatch_size = 1000\n",
    "\n",
    "input_map = {\n",
    "    features : reader.streams.features,\n",
    "    labels   : reader.streams.labels\n",
    "}\n",
    "\n",
    "progress_printer = C.logging.ProgressPrinter(tag='Evaluation', num_epochs=0)\n",
    "evaluator = C.eval.Evaluator(label_error, progress_printer)\n",
    "\n",
    "while True:\n",
    "    mb = reader_test.next_minibatch(test_minibatch_size, input_map=input_map)\n",
    "    if not mb:\n",
    "        break\n",
    "    eval_error = evaluator.test_minibatch(mb)\n",
    "\n",
    "evaluator.summarize_test_progress()"
   ]
  },
  {
   "cell_type": "markdown",
   "metadata": {},
   "source": [
    "#### Save the model"
   ]
  },
  {
   "cell_type": "code",
   "execution_count": 12,
   "metadata": {},
   "outputs": [],
   "source": [
    "model_path = 'outputs/model.cmf'\n",
    "model.save(model_path)"
   ]
  },
  {
   "cell_type": "markdown",
   "metadata": {},
   "source": [
    "#### Test the saved model"
   ]
  },
  {
   "cell_type": "code",
   "execution_count": 15,
   "metadata": {},
   "outputs": [
    {
     "name": "stdout",
     "output_type": "stream",
     "text": [
      "[nltk_data] Downloading package punkt to /home/mmlspark/nltk_data...\n",
      "[nltk_data]   Unzipping tokenizers/punkt.zip.\n"
     ]
    },
    {
     "data": {
      "text/plain": [
       "True"
      ]
     },
     "execution_count": 15,
     "metadata": {},
     "output_type": "execute_result"
    }
   ],
   "source": [
    "# Download the punkt corpus first\n",
    "import nltk\n",
    "nltk.download('punkt')"
   ]
  },
  {
   "cell_type": "code",
   "execution_count": 17,
   "metadata": {},
   "outputs": [
    {
     "name": "stdout",
     "output_type": "stream",
     "text": [
      "[[39853, 59425, 70309, 87407], [20052, 95297, 95074, 59425, 70309, 87407]]\n",
      "[[ 1.74848282 -0.71896964 -2.50516701]\n",
      " [-0.08711873  2.32584882 -2.38609338]]\n",
      "['objective', 'subjective']\n"
     ]
    }
   ],
   "source": [
    "from preprocess.normalize_sentences import SentenceNormalizer\n",
    "from cntk.ops.functions import load_model\n",
    "\n",
    "saved_model = load_model(model_path)\n",
    "vocab_size = 101590\n",
    "\n",
    "with open('dictionary.txt', 'r', encoding='utf-8') as f:\n",
    "    dictionary = f.read().strip().split('\\n') \n",
    "\n",
    "sent_normalizer = SentenceNormalizer(dictionary=dictionary)\n",
    "normalized = sent_normalizer.fit_transform(\n",
    "    [\"The earth is round\",\n",
    "     \"I think the earth is round\"], to_index=True)\n",
    "\n",
    "print(normalized)\n",
    "pred_score = saved_model(C.Value.one_hot(normalized, vocab_size))\n",
    "print(pred_score)\n",
    "\n",
    "pred_class = np.argmax(pred_score, axis=1)\n",
    "labels = []\n",
    "with open('labels.txt', 'r', encoding='utf-8') as f:\n",
    "    labels = f.read().strip().split('\\n')\n",
    "pred_class = [labels[p] for p in pred_class]\n",
    "print(pred_class)\n"
   ]
  },
  {
   "cell_type": "code",
   "execution_count": null,
   "metadata": {},
   "outputs": [],
   "source": []
  }
 ],
 "metadata": {
  "kernelspec": {
   "display_name": "Python 3",
   "language": "python",
   "name": "python3"
  },
  "language_info": {
   "codemirror_mode": {
    "name": "ipython",
    "version": 3
   },
   "file_extension": ".py",
   "mimetype": "text/x-python",
   "name": "python",
   "nbconvert_exporter": "python",
   "pygments_lexer": "ipython3",
   "version": "3.6.3"
  }
 },
 "nbformat": 4,
 "nbformat_minor": 2
}
