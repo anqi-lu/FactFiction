{
 "cells": [
  {
   "cell_type": "markdown",
   "metadata": {},
   "source": [
    "# Simple LSTM model"
   ]
  },
  {
   "cell_type": "code",
   "execution_count": 134,
   "metadata": {},
   "outputs": [
    {
     "name": "stdout",
     "output_type": "stream",
     "text": [
      "2.2\n"
     ]
    }
   ],
   "source": [
    "import os\n",
    "import cntk as C\n",
    "import numpy as np\n",
    "import copy\n",
    "import matplotlib.pyplot as plt\n",
    "import cntk.tests.test_utils\n",
    "cntk.tests.test_utils.set_device_from_pytest_env() # (only needed for our build system)\n",
    "C.cntk_py.set_fixed_random_seed(1) # fix a random seed for CNTK components\n",
    "%matplotlib inline\n",
    "\n",
    "azureml_share_env = 'AZUREML_NATIVE_SHARE_DIRECTORY'\n",
    "is_azure_ml = azureml_share_env in os.environ\n",
    "share_path = os.environ[azureml_share_env] if is_azure_ml else '../../../'\n",
    "\n",
    "all_path = os.path.join(share_path, \"data/final/final.ctf\")\n",
    "train_path = os.path.join(share_path, \"data/final/final.train.ctf\")\n",
    "val_path = os.path.join(share_path, \"data/final/final.val.ctf\")\n",
    "test_path = os.path.join(share_path, \"data/final/final.test.ctf\")\n",
    "\n",
    "test_path_tsv = os.path.join(share_path, \"data/final/final.test.tsv\")\n",
    "\n",
    "print(C.__version__)"
   ]
  },
  {
   "cell_type": "code",
   "execution_count": 120,
   "metadata": {
    "collapsed": true
   },
   "outputs": [],
   "source": [
    "# Creates the reader\n",
    "def create_reader(path, is_training, input_dim, label_dim):\n",
    "    return C.io.MinibatchSource(C.io.CTFDeserializer(path, C.io.StreamDefs(\n",
    "        features = C.io.StreamDef(field='S0', shape=input_dim,   is_sparse=True),\n",
    "        labels   = C.io.StreamDef(field='S1', shape=label_dim,   is_sparse=False)\n",
    "    )), randomize=is_training, max_sweeps = C.io.INFINITELY_REPEAT if is_training else 1)\n",
    "\n",
    "# Defines the LSTM model for classifying sequences\n",
    "def lstm_sequence_classifier(features, num_classes, embedding_dim, LSTM_dim):\n",
    "    classifier = C.layers.Sequential([C.layers.Embedding(embedding_dim, name='embed'),\n",
    "                                      C.layers.Recurrence(C.layers.LSTM(LSTM_dim), go_backwards=False),\n",
    "                                      C.sequence.last,\n",
    "                                      C.layers.Dense(num_classes, name='dense')])\n",
    "    return classifier(features)"
   ]
  },
  {
   "cell_type": "markdown",
   "metadata": {},
   "source": [
    "#### Train the model"
   ]
  },
  {
   "cell_type": "code",
   "execution_count": 140,
   "metadata": {
    "collapsed": true
   },
   "outputs": [],
   "source": [
    "class HistoryTracker(C.logging.TrainingSummaryProgressCallback):\n",
    "    \n",
    "    def __init__(self, epoch_size):\n",
    "        def do_nothing():\n",
    "            pass\n",
    "        super(HistoryTracker, self).__init__(epoch_size, do_nothing)\n",
    "        self.train_history = []\n",
    "        self.test_history = []\n",
    "    \n",
    "    def on_write_training_summary(self, samples, updates, summaries, aggregate_loss, aggregate_metric, elapsed_milliseconds):\n",
    "        self.train_history.append(aggregate_metric*1.0/samples)\n",
    "        \n",
    "    def on_write_test_summary(self, samples, updates, summaries, aggregate_metric, elapsed_milliseconds):\n",
    "        self.test_history.append(aggregate_metric*1.0/samples)\n",
    "\n",
    "\n",
    "def train(reader, reader_val, model, loss, metric, max_epochs=10):\n",
    "    epoch_size = 9206 # Total number of sequences\n",
    "    minibatch_size = 300 # Minimum number of tokens being fetched in a minibatch\n",
    "\n",
    "    epoch_size_val = 1150\n",
    "\n",
    "    progress_printer = C.logging.ProgressPrinter(freq=150,\n",
    "                                                 tag='Training',\n",
    "                                                 num_epochs=max_epochs)\n",
    "    \n",
    "    # epoch_size*20 is the estimate of the total number of tokens\n",
    "    history_tracker = HistoryTracker(epoch_size*20)\n",
    "    \n",
    "    # SGD learner\n",
    "    #lr_per_sample = C.learners.learning_rate_schedule(0.0015, C.learners.UnitType.sample)\n",
    "    # learner = C.learners.sgd(model.parameters, lr=lr_per_sample)\n",
    "\n",
    "    lr_schedule = C.learning_parameter_schedule([1.0]*3 + [0.8]*2 + [0.6]*1,\n",
    "                                                 minibatch_size=C.learners.IGNORE,\n",
    "                                                 epoch_size=epoch_size)\n",
    "    t_schedule = C.momentum_schedule(0.971, minibatch_size=C.learners.IGNORE)\n",
    "    learner = adadelta = C.adadelta(model.parameters, lr_schedule, 0.999, 1e-6)\n",
    "\n",
    "    trainer = C.Trainer(model, (loss, metric),\n",
    "                        learner,\n",
    "                        [progress_printer, history_tracker])\n",
    "\n",
    "    input_map = {\n",
    "        features : reader.streams.features,\n",
    "        labels   : reader.streams.labels\n",
    "    }\n",
    "    \n",
    "    for epoch in range(max_epochs):\n",
    "        # Train on one epoch\n",
    "        t = 0\n",
    "        while t < epoch_size:\n",
    "            mb = reader.next_minibatch(minibatch_size, input_map=input_map)\n",
    "            trainer.train_minibatch(mb)\n",
    "            t += mb[labels].num_samples # Current number of read sequences\n",
    "        trainer.summarize_training_progress()\n",
    "\n",
    "        # Evaluate validation set after one epoch\n",
    "        t = 0\n",
    "        while t < epoch_size_val:\n",
    "            mb = reader_val.next_minibatch(minibatch_size, input_map=input_map)\n",
    "            trainer.test_minibatch(mb)\n",
    "            t += mb[labels].num_samples\n",
    "\n",
    "        trainer.summarize_test_progress()\n",
    "    \n",
    "    return (history_tracker.train_history, history_tracker.test_history)"
   ]
  },
  {
   "cell_type": "code",
   "execution_count": 141,
   "metadata": {
    "scrolled": false
   },
   "outputs": [
    {
     "name": "stdout",
     "output_type": "stream",
     "text": [
      "Learning rate per minibatch: 1.0\n",
      " Minibatch[   1- 150]: loss = 0.686283 * 2056, metric = 43.09% * 2056;\n",
      " Minibatch[ 151- 300]: loss = 0.601458 * 2069, metric = 31.90% * 2069;\n",
      " Minibatch[ 301- 450]: loss = 0.542409 * 2095, metric = 25.73% * 2095;\n",
      " Minibatch[ 451- 600]: loss = 0.499155 * 2116, metric = 22.78% * 2116;\n",
      "Finished Epoch[1 of 6]: [Training] loss = 0.573511 * 9217, metric = 30.02% * 9217 14.841s (621.0 samples/s);\n",
      "Finished Evaluation [1]: Minibatch[1-81]: metric = 17.72% * 1157;\n",
      " Minibatch[   1- 150]: loss = 0.484828 * 2160, metric = 21.16% * 2160;\n",
      " Minibatch[ 151- 300]: loss = 0.518389 * 2176, metric = 23.39% * 2176;\n",
      " Minibatch[ 301- 450]: loss = 0.452471 * 2151, metric = 19.76% * 2151;\n",
      " Minibatch[ 451- 600]: loss = 0.446716 * 2072, metric = 19.21% * 2072;\n",
      "Finished Epoch[2 of 6]: [Training] loss = 0.474589 * 9210, metric = 20.81% * 9210 14.563s (632.4 samples/s);\n",
      "Finished Evaluation [2]: Minibatch[1-81]: metric = 18.09% * 1150;\n",
      " Minibatch[   1- 150]: loss = 0.409597 * 2115, metric = 17.16% * 2115;\n",
      " Minibatch[ 151- 300]: loss = 0.394957 * 2080, metric = 16.06% * 2080;\n",
      " Minibatch[ 301- 450]: loss = 0.391938 * 2122, metric = 15.74% * 2122;\n",
      " Minibatch[ 451- 600]: loss = 0.375933 * 2143, metric = 15.59% * 2143;\n",
      "Learning rate per minibatch: 0.8\n",
      "Finished Epoch[3 of 6]: [Training] loss = 0.388957 * 9211, metric = 16.07% * 9211 14.269s (645.5 samples/s);\n",
      "Finished Evaluation [3]: Minibatch[1-81]: metric = 10.04% * 1155;\n",
      " Minibatch[   1- 150]: loss = 0.346687 * 2151, metric = 13.85% * 2151;\n",
      " Minibatch[ 151- 300]: loss = 0.363869 * 2148, metric = 15.08% * 2148;\n",
      " Minibatch[ 301- 450]: loss = 0.306590 * 2147, metric = 12.30% * 2147;\n",
      " Minibatch[ 451- 600]: loss = 0.255935 * 2096, metric = 9.59% * 2096;\n",
      "Finished Epoch[4 of 6]: [Training] loss = 0.314750 * 9211, metric = 12.44% * 9211 14.326s (643.0 samples/s);\n",
      "Finished Evaluation [4]: Minibatch[1-80]: metric = 9.13% * 1150;\n",
      " Minibatch[   1- 150]: loss = 0.227160 * 2123, metric = 8.34% * 2123;\n",
      " Minibatch[ 151- 300]: loss = 0.238561 * 2128, metric = 9.12% * 2128;\n",
      " Minibatch[ 301- 450]: loss = 0.239622 * 2130, metric = 9.48% * 2130;\n",
      " Minibatch[ 451- 600]: loss = 0.230860 * 2149, metric = 9.21% * 2149;\n",
      "Learning rate per minibatch: 0.6\n",
      "Finished Epoch[5 of 6]: [Training] loss = 0.234703 * 9210, metric = 9.09% * 9210 16.373s (562.5 samples/s);\n",
      "Finished Evaluation [5]: Minibatch[1-79]: metric = 5.11% * 1155;\n",
      " Minibatch[   1- 150]: loss = 0.233439 * 2103, metric = 9.32% * 2103;\n",
      " Minibatch[ 151- 300]: loss = 0.226588 * 2139, metric = 9.12% * 2139;\n",
      " Minibatch[ 301- 450]: loss = 0.139881 * 2069, metric = 4.54% * 2069;\n",
      " Minibatch[ 451- 600]: loss = 0.133176 * 2081, metric = 4.37% * 2081;\n",
      "Finished Epoch[6 of 6]: [Training] loss = 0.178809 * 9210, metric = 6.70% * 9210 15.351s (600.0 samples/s);\n",
      "Finished Evaluation [6]: Minibatch[1-82]: metric = 3.97% * 1160;\n"
     ]
    }
   ],
   "source": [
    "vocab_size = 102200\n",
    "\n",
    "# Model dimensions\n",
    "input_dim = vocab_size\n",
    "hidden_dim = 30\n",
    "embedding_dim = 200\n",
    "num_classes = 2\n",
    "\n",
    "reader = create_reader(all_path, True, input_dim, num_classes)\n",
    "reader_val = create_reader(val_path, True, input_dim, num_classes)\n",
    "\n",
    "# Input variables denoting the features and label data\n",
    "features = C.sequence.input_variable(shape=input_dim, is_sparse=True)\n",
    "labels = C.input_variable(num_classes)\n",
    "\n",
    "# Instantiate the sequence classification model\n",
    "model_func = lstm_sequence_classifier(features, num_classes, embedding_dim, hidden_dim)\n",
    "model = model_func(features)\n",
    "\n",
    "# Create criterion\n",
    "loss        = C.cross_entropy_with_softmax(model, labels)\n",
    "label_error = C.classification_error(model, labels)\n",
    "\n",
    "history = train(reader, reader_val, model, loss, label_error, max_epochs=6)"
   ]
  },
  {
   "cell_type": "code",
   "execution_count": 129,
   "metadata": {},
   "outputs": [
    {
     "data": {
      "image/png": "[encoded data removed]",
      "text/plain": [
       "<matplotlib.figure.Figure at 0x2a8821316a0>"
      ]
     },
     "metadata": {},
     "output_type": "display_data"
    }
   ],
   "source": [
    "fig, ax = plt.subplots(1)\n",
    "ax.plot(history[0], 'rx-', label='Train error')\n",
    "ax.plot(history[1], 'bo-', label='Validation error')\n",
    "ax.set_xlabel('epoch')\n",
    "ax.set_ylabel('error rate')\n",
    "ax.yaxis.grid('on')\n",
    "ax.legend()\n",
    "\n",
    "fig.savefig('outputs/train_history.png')\n"
   ]
  },
  {
   "cell_type": "markdown",
   "metadata": {},
   "source": [
    "#### Test the model"
   ]
  },
  {
   "cell_type": "code",
   "execution_count": 132,
   "metadata": {},
   "outputs": [
    {
     "name": "stdout",
     "output_type": "stream",
     "text": [
      "Finished Evaluation [1]: Minibatch[1-35]: metric = 17.11% * 1677;\n"
     ]
    }
   ],
   "source": [
    "reader_test = create_reader(test_path, False, input_dim, num_classes)\n",
    "\n",
    "test_minibatch_size = 1000\n",
    "\n",
    "input_map = {\n",
    "    features : reader.streams.features,\n",
    "    labels   : reader.streams.labels\n",
    "}\n",
    "\n",
    "progress_printer = C.logging.ProgressPrinter(tag='Evaluation', num_epochs=0)\n",
    "evaluator = C.eval.Evaluator(label_error, progress_printer)\n",
    "\n",
    "while True:\n",
    "    mb = reader_test.next_minibatch(test_minibatch_size, input_map=input_map)\n",
    "    if not mb:\n",
    "        break\n",
    "    eval_error = evaluator.test_minibatch(mb)\n",
    "\n",
    "evaluator.summarize_test_progress()"
   ]
  },
  {
   "cell_type": "markdown",
   "metadata": {},
   "source": [
    "#### Save the model"
   ]
  },
  {
   "cell_type": "code",
   "execution_count": 143,
   "metadata": {
    "collapsed": true
   },
   "outputs": [],
   "source": [
    "model_path = 'outputs/model.cmf'\n",
    "model.save(model_path)"
   ]
  },
  {
   "cell_type": "markdown",
   "metadata": {},
   "source": [
    "#### Test the saved model"
   ]
  },
  {
   "cell_type": "code",
   "execution_count": 93,
   "metadata": {},
   "outputs": [
    {
     "name": "stdout",
     "output_type": "stream",
     "text": [
      "[nltk_data] Downloading package punkt to C:\\nltk_data...\n",
      "[nltk_data]   Package punkt is already up-to-date!\n"
     ]
    },
    {
     "data": {
      "text/plain": [
       "True"
      ]
     },
     "execution_count": 93,
     "metadata": {},
     "output_type": "execute_result"
    }
   ],
   "source": [
    "# Download the punkt corpus first\n",
    "import nltk\n",
    "nltk.download('punkt')"
   ]
  },
  {
   "cell_type": "code",
   "execution_count": 133,
   "metadata": {},
   "outputs": [
    {
     "name": "stdout",
     "output_type": "stream",
     "text": [
      "''\n",
      "[[13218, 41200, 70817, 44810, 83672], [20219, 95890, 95666, 59893, 70817, 87976]]\n",
      "[[ 0.3668181  -0.2832582 ]\n",
      " [-1.28273869  1.25848341]]\n",
      "['objective', 'subjective']\n"
     ]
    }
   ],
   "source": [
    "from preprocess.normalize_sentences import SentenceNormalizer\n",
    "from cntk.ops.functions import load_model\n",
    "\n",
    "saved_model = load_model(model_path)\n",
    "vocab_size = 102200\n",
    "\n",
    "with open('..\\dictionary.txt', encoding='utf-8') as f:\n",
    "    dictionary = f.read().split() \n",
    "\n",
    "sent_normalizer = SentenceNormalizer(dictionary=dictionary)\n",
    "normalized = sent_normalizer.fit_transform(\n",
    "    [\"Donald Trump is a president.\",\n",
    "     \"I think the earth is round\"], to_index=True)\n",
    "\n",
    "print(normalized)\n",
    "pred_score = saved_model(C.Value.one_hot(normalized, vocab_size))\n",
    "print(pred_score)\n",
    "\n",
    "pred_class = np.argmax(pred_score, axis=1)\n",
    "labels = []\n",
    "with open('..\\labels.txt', 'r', encoding='utf-8') as f:\n",
    "    labels = f.read().strip().split('\\n')\n",
    "pred_class = [labels[p] for p in pred_class]\n",
    "print(pred_class)\n"
   ]
  },
  {
   "cell_type": "code",
   "execution_count": 142,
   "metadata": {
    "scrolled": true
   },
   "outputs": [
    {
     "name": "stdout",
     "output_type": "stream",
     "text": [
      "             precision    recall  f1-score   support\n",
      "\n",
      "  objective     0.8225    0.8099    0.8162       784\n",
      " subjective     0.8354    0.8466    0.8409       893\n",
      "\n",
      "avg / total     0.8294    0.8295    0.8294      1677\n",
      "\n"
     ]
    }
   ],
   "source": [
    "from sklearn.metrics import classification_report\n",
    "import pandas as pd\n",
    "\n",
    "saved_model = load_model(model_path)\n",
    "vocab_size = 102200\n",
    "\n",
    "with open('..\\dictionary.txt', encoding='utf-8') as f:\n",
    "    dictionary = f.read().split() \n",
    "\n",
    "test_data = pd.read_csv(test_path_tsv, sep='\\t')\n",
    "\n",
    "sent_normalizer = SentenceNormalizer(dictionary=dictionary)\n",
    "normalized = sent_normalizer.fit_transform(test_data['sentence'], to_index=True)\n",
    "\n",
    "pred_score = saved_model(C.Value.one_hot(normalized, vocab_size))\n",
    "pred_class = np.argmax(pred_score, axis=1)\n",
    "labels = []\n",
    "with open('..\\labels.txt', 'r', encoding='utf-8') as f:\n",
    "    labels = f.read().strip().split('\\n')\n",
    "pred_class = [labels[p] for p in pred_class]\n",
    "\n",
    "print(classification_report(test_data['label'], pred_class, digits=4))\n"
   ]
  },
  {
   "cell_type": "code",
   "execution_count": null,
   "metadata": {
    "collapsed": true
   },
   "outputs": [],
   "source": []
  }
 ],
 "metadata": {
  "kernelspec": {
   "display_name": "Python 3",
   "language": "python",
   "name": "python3"
  },
  "language_info": {
   "codemirror_mode": {
    "name": "ipython",
    "version": 3
   },
   "file_extension": ".py",
   "mimetype": "text/x-python",
   "name": "python",
   "nbconvert_exporter": "python",
   "pygments_lexer": "ipython3",
   "version": "3.6.1"
  }
 },
 "nbformat": 4,
 "nbformat_minor": 2
}
