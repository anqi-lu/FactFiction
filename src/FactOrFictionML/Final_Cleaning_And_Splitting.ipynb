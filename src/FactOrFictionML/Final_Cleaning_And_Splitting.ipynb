{
 "cells": [
  {
   "cell_type": "code",
   "execution_count": 76,
   "metadata": {
    "collapsed": true
   },
   "outputs": [],
   "source": [
    "import nltk\n",
    "import pandas as pd\n",
    "import numpy as np\n",
    "import os\n",
    "from sklearn.model_selection import train_test_split\n",
    "from preprocess.normalize_sentences import SentenceNormalizer\n",
    "%matplotlib inline\n",
    "\n",
    "DATA_PATH = '../../data/'\n",
    "OUTPUT_PATH = os.path.join(DATA_PATH, 'final')\n",
    "\n",
    "if not os.path.exists(OUTPUT_PATH):\n",
    "    os.mkdir(OUTPUT_PATH)\n",
    "\n",
    "def word_count(sent):\n",
    "    return len(sent.split(' '))\n",
    "\n",
    "\n",
    "def save_dataset(df, file_name):\n",
    "    final_path = os.path.join(OUTPUT_PATH, file_name)\n",
    "    df.to_csv(final_path, index=False, encoding='utf-8', sep='\\t',\n",
    "              columns=['sentence_normalized', 'label'],\n",
    "              header=['sentence', 'label'])\n"
   ]
  },
  {
   "cell_type": "markdown",
   "metadata": {},
   "source": [
    "## Prepare MTusk data"
   ]
  },
  {
   "cell_type": "code",
   "execution_count": 77,
   "metadata": {},
   "outputs": [
    {
     "data": {
      "text/html": [
       "<div>\n",
       "<style>\n",
       "    .dataframe thead tr:only-child th {\n",
       "        text-align: right;\n",
       "    }\n",
       "\n",
       "    .dataframe thead th {\n",
       "        text-align: left;\n",
       "    }\n",
       "\n",
       "    .dataframe tbody tr th {\n",
       "        vertical-align: top;\n",
       "    }\n",
       "</style>\n",
       "<table border=\"1\" class=\"dataframe\">\n",
       "  <thead>\n",
       "    <tr style=\"text-align: right;\">\n",
       "      <th></th>\n",
       "      <th>sentence</th>\n",
       "      <th>label</th>\n",
       "    </tr>\n",
       "  </thead>\n",
       "  <tbody>\n",
       "    <tr>\n",
       "      <th>0</th>\n",
       "      <td>I have wrestled the bears of tax burdens and o...</td>\n",
       "      <td>subjective</td>\n",
       "    </tr>\n",
       "    <tr>\n",
       "      <th>1</th>\n",
       "      <td>\"We have not found anything at this point that...</td>\n",
       "      <td>objective</td>\n",
       "    </tr>\n",
       "    <tr>\n",
       "      <th>2</th>\n",
       "      <td>Cannabis awareness reaches a tipping point^ gr...</td>\n",
       "      <td>subjective</td>\n",
       "    </tr>\n",
       "    <tr>\n",
       "      <th>3</th>\n",
       "      <td>[See Photos of the Newly Uncovered Step Pyrami...</td>\n",
       "      <td>subjective</td>\n",
       "    </tr>\n",
       "    <tr>\n",
       "      <th>4</th>\n",
       "      <td>Tzekos was also banned for two years by the IAAF.</td>\n",
       "      <td>objective</td>\n",
       "    </tr>\n",
       "    <tr>\n",
       "      <th>5</th>\n",
       "      <td>\"For mothers with babies^ there is no research...</td>\n",
       "      <td>objective</td>\n",
       "    </tr>\n",
       "    <tr>\n",
       "      <th>6</th>\n",
       "      <td>In 1997^ he was shot dead on its front steps b...</td>\n",
       "      <td>objective</td>\n",
       "    </tr>\n",
       "    <tr>\n",
       "      <th>7</th>\n",
       "      <td>Right to bear arms.</td>\n",
       "      <td>other</td>\n",
       "    </tr>\n",
       "    <tr>\n",
       "      <th>8</th>\n",
       "      <td>State lawmakers are still holding hearings int...</td>\n",
       "      <td>objective</td>\n",
       "    </tr>\n",
       "    <tr>\n",
       "      <th>9</th>\n",
       "      <td>And if youre really looking to enhance the det...</td>\n",
       "      <td>subjective</td>\n",
       "    </tr>\n",
       "  </tbody>\n",
       "</table>\n",
       "</div>"
      ],
      "text/plain": [
       "                                            sentence       label\n",
       "0  I have wrestled the bears of tax burdens and o...  subjective\n",
       "1  \"We have not found anything at this point that...   objective\n",
       "2  Cannabis awareness reaches a tipping point^ gr...  subjective\n",
       "3  [See Photos of the Newly Uncovered Step Pyrami...  subjective\n",
       "4  Tzekos was also banned for two years by the IAAF.   objective\n",
       "5  \"For mothers with babies^ there is no research...   objective\n",
       "6  In 1997^ he was shot dead on its front steps b...   objective\n",
       "7                                Right to bear arms.       other\n",
       "8  State lawmakers are still holding hearings int...   objective\n",
       "9  And if youre really looking to enhance the det...  subjective"
      ]
     },
     "execution_count": 77,
     "metadata": {},
     "output_type": "execute_result"
    }
   ],
   "source": [
    "mtusk_file = os.path.join(DATA_PATH, 'mtusk/results_11.13.17.csv')\n",
    "\n",
    "# Load data\n",
    "mtusk_df = pd.read_csv(mtusk_file, usecols=['Input.sentence', 'Answer.categories'])\n",
    "mtusk_df.columns = ['sentence', 'label']\n",
    "mtusk_df['label'] = mtusk_df['label'].map({'category 2': 'subjective', 'category 1': 'objective', 'category 3': 'other'})\n",
    "mtusk_df.head(10)"
   ]
  },
  {
   "cell_type": "markdown",
   "metadata": {},
   "source": [
    "## Prepare IMDB data"
   ]
  },
  {
   "cell_type": "code",
   "execution_count": 78,
   "metadata": {},
   "outputs": [
    {
     "name": "stdout",
     "output_type": "stream",
     "text": [
      "Total number of sentences in imdb: 10367\n"
     ]
    },
    {
     "data": {
      "text/html": [
       "<div>\n",
       "<style>\n",
       "    .dataframe thead tr:only-child th {\n",
       "        text-align: right;\n",
       "    }\n",
       "\n",
       "    .dataframe thead th {\n",
       "        text-align: left;\n",
       "    }\n",
       "\n",
       "    .dataframe tbody tr th {\n",
       "        vertical-align: top;\n",
       "    }\n",
       "</style>\n",
       "<table border=\"1\" class=\"dataframe\">\n",
       "  <thead>\n",
       "    <tr style=\"text-align: right;\">\n",
       "      <th></th>\n",
       "      <th>sentence</th>\n",
       "      <th>label</th>\n",
       "    </tr>\n",
       "  </thead>\n",
       "  <tbody>\n",
       "    <tr>\n",
       "      <th>10208</th>\n",
       "      <td>we don't get paid enough to sit through crap l...</td>\n",
       "      <td>subjective</td>\n",
       "    </tr>\n",
       "    <tr>\n",
       "      <th>8796</th>\n",
       "      <td>will probably stay in the shadow of its two ol...</td>\n",
       "      <td>subjective</td>\n",
       "    </tr>\n",
       "    <tr>\n",
       "      <th>2055</th>\n",
       "      <td>he dwells in a world of external night--but th...</td>\n",
       "      <td>objective</td>\n",
       "    </tr>\n",
       "    <tr>\n",
       "      <th>2388</th>\n",
       "      <td>the journey takes them from the inner city to ...</td>\n",
       "      <td>objective</td>\n",
       "    </tr>\n",
       "    <tr>\n",
       "      <th>730</th>\n",
       "      <td>on earth, a scientist struggling with writing ...</td>\n",
       "      <td>objective</td>\n",
       "    </tr>\n",
       "    <tr>\n",
       "      <th>8134</th>\n",
       "      <td>this is the sort of burly action flick where o...</td>\n",
       "      <td>subjective</td>\n",
       "    </tr>\n",
       "    <tr>\n",
       "      <th>2858</th>\n",
       "      <td>against their better judgment, dara and noble ...</td>\n",
       "      <td>objective</td>\n",
       "    </tr>\n",
       "    <tr>\n",
       "      <th>9491</th>\n",
       "      <td>in the second half of the film, frei's control...</td>\n",
       "      <td>subjective</td>\n",
       "    </tr>\n",
       "    <tr>\n",
       "      <th>5206</th>\n",
       "      <td>spider-man is about growing strange hairs, get...</td>\n",
       "      <td>subjective</td>\n",
       "    </tr>\n",
       "    <tr>\n",
       "      <th>4402</th>\n",
       "      <td>he is an aspiring writer struggling with these...</td>\n",
       "      <td>objective</td>\n",
       "    </tr>\n",
       "  </tbody>\n",
       "</table>\n",
       "</div>"
      ],
      "text/plain": [
       "                                                sentence       label\n",
       "10208  we don't get paid enough to sit through crap l...  subjective\n",
       "8796   will probably stay in the shadow of its two ol...  subjective\n",
       "2055   he dwells in a world of external night--but th...   objective\n",
       "2388   the journey takes them from the inner city to ...   objective\n",
       "730    on earth, a scientist struggling with writing ...   objective\n",
       "8134   this is the sort of burly action flick where o...  subjective\n",
       "2858   against their better judgment, dara and noble ...   objective\n",
       "9491   in the second half of the film, frei's control...  subjective\n",
       "5206   spider-man is about growing strange hairs, get...  subjective\n",
       "4402   he is an aspiring writer struggling with these...   objective"
      ]
     },
     "execution_count": 78,
     "metadata": {},
     "output_type": "execute_result"
    }
   ],
   "source": [
    "imdb_file = os.path.join(DATA_PATH, 'imdb/all.tsv')\n",
    "\n",
    "# Load data\n",
    "imdb_df = pd.read_csv(imdb_file, sep='\\t', usecols=['sentence', 'file_name'])\n",
    "imdb_df.columns = ['sentence', 'label']\n",
    "imdb_df['label'] = imdb_df['label'].map({'subjective.txt': 'subjective', 'objective.txt': 'objective'})\n",
    "\n",
    "print('Total number of sentences in imdb:', len(imdb_df.index))\n",
    "imdb_df.sample(10)"
   ]
  },
  {
   "cell_type": "markdown",
   "metadata": {},
   "source": [
    "## Combine MTusk and IMDB, clean, then save"
   ]
  },
  {
   "cell_type": "code",
   "execution_count": 79,
   "metadata": {},
   "outputs": [
    {
     "name": "stdout",
     "output_type": "stream",
     "text": [
      "Total number of sentences: 11507\n"
     ]
    },
    {
     "data": {
      "text/html": [
       "<div>\n",
       "<style>\n",
       "    .dataframe thead tr:only-child th {\n",
       "        text-align: right;\n",
       "    }\n",
       "\n",
       "    .dataframe thead th {\n",
       "        text-align: left;\n",
       "    }\n",
       "\n",
       "    .dataframe tbody tr th {\n",
       "        vertical-align: top;\n",
       "    }\n",
       "</style>\n",
       "<table border=\"1\" class=\"dataframe\">\n",
       "  <thead>\n",
       "    <tr style=\"text-align: right;\">\n",
       "      <th></th>\n",
       "      <th>index</th>\n",
       "      <th>sentence</th>\n",
       "      <th>label</th>\n",
       "      <th>sentence_normalized</th>\n",
       "    </tr>\n",
       "  </thead>\n",
       "  <tbody>\n",
       "    <tr>\n",
       "      <th>7943</th>\n",
       "      <td>6793</td>\n",
       "      <td>the film actually gets to tackle some larger q...</td>\n",
       "      <td>subjective</td>\n",
       "      <td>the film actually gets to tackle some larger q...</td>\n",
       "    </tr>\n",
       "    <tr>\n",
       "      <th>10798</th>\n",
       "      <td>9653</td>\n",
       "      <td>stevens' vibrant creative instincts are the di...</td>\n",
       "      <td>subjective</td>\n",
       "      <td>stevens ' vibrant creative instincts are the d...</td>\n",
       "    </tr>\n",
       "    <tr>\n",
       "      <th>10349</th>\n",
       "      <td>9203</td>\n",
       "      <td>ever see one of those comedies that just seem ...</td>\n",
       "      <td>subjective</td>\n",
       "      <td>ever see one of those comedies that just seem ...</td>\n",
       "    </tr>\n",
       "    <tr>\n",
       "      <th>8492</th>\n",
       "      <td>7342</td>\n",
       "      <td>i'll go out on a limb.</td>\n",
       "      <td>subjective</td>\n",
       "      <td>i 'll go out on a limb .</td>\n",
       "    </tr>\n",
       "    <tr>\n",
       "      <th>1135</th>\n",
       "      <td>1147</td>\n",
       "      <td>Whats a poor parent to do?</td>\n",
       "      <td>other</td>\n",
       "      <td>Whats a poor parent to do ?</td>\n",
       "    </tr>\n",
       "    <tr>\n",
       "      <th>6142</th>\n",
       "      <td>4983</td>\n",
       "      <td>raunchy though [cho's] material is, it embrace...</td>\n",
       "      <td>subjective</td>\n",
       "      <td>raunchy though cho 's material is , it embrace...</td>\n",
       "    </tr>\n",
       "    <tr>\n",
       "      <th>10388</th>\n",
       "      <td>9242</td>\n",
       "      <td>the only upside to all of this unpleasantness ...</td>\n",
       "      <td>subjective</td>\n",
       "      <td>the only upside to all of this unpleasantness ...</td>\n",
       "    </tr>\n",
       "    <tr>\n",
       "      <th>155</th>\n",
       "      <td>156</td>\n",
       "      <td>But then he got over-the-top dirty  pussy grab...</td>\n",
       "      <td>subjective</td>\n",
       "      <td>But then he got over-the-top dirty pussy grabb...</td>\n",
       "    </tr>\n",
       "    <tr>\n",
       "      <th>4119</th>\n",
       "      <td>2960</td>\n",
       "      <td>with the help of an angry young filmmaker, a r...</td>\n",
       "      <td>objective</td>\n",
       "      <td>with the help of an angry young filmmaker , a ...</td>\n",
       "    </tr>\n",
       "    <tr>\n",
       "      <th>9851</th>\n",
       "      <td>8705</td>\n",
       "      <td>though a capable thriller, somewhere along the...</td>\n",
       "      <td>subjective</td>\n",
       "      <td>though a capable thriller , somewhere along th...</td>\n",
       "    </tr>\n",
       "    <tr>\n",
       "      <th>7147</th>\n",
       "      <td>5995</td>\n",
       "      <td>there are a few laughs and clever sight gags s...</td>\n",
       "      <td>subjective</td>\n",
       "      <td>there are a few laughs and clever sight gags s...</td>\n",
       "    </tr>\n",
       "    <tr>\n",
       "      <th>6258</th>\n",
       "      <td>5100</td>\n",
       "      <td>great fun both for sports aficionados and for ...</td>\n",
       "      <td>subjective</td>\n",
       "      <td>great fun both for sports aficionados and for ...</td>\n",
       "    </tr>\n",
       "    <tr>\n",
       "      <th>7805</th>\n",
       "      <td>6654</td>\n",
       "      <td>serry perfectly captures the peculiar climate,...</td>\n",
       "      <td>subjective</td>\n",
       "      <td>serry perfectly captures the peculiar climate ...</td>\n",
       "    </tr>\n",
       "    <tr>\n",
       "      <th>1494</th>\n",
       "      <td>332</td>\n",
       "      <td>a greek film maker ( the narrator ) has his fi...</td>\n",
       "      <td>objective</td>\n",
       "      <td>a greek film maker ( the narrator ) has his fi...</td>\n",
       "    </tr>\n",
       "    <tr>\n",
       "      <th>174</th>\n",
       "      <td>175</td>\n",
       "      <td>At least in public^ Liberals are not willing t...</td>\n",
       "      <td>subjective</td>\n",
       "      <td>At least in public , Liberals are not willing ...</td>\n",
       "    </tr>\n",
       "    <tr>\n",
       "      <th>9643</th>\n",
       "      <td>8496</td>\n",
       "      <td>destined to make allen's fans around the world...</td>\n",
       "      <td>subjective</td>\n",
       "      <td>destined to make allen 's fans around the worl...</td>\n",
       "    </tr>\n",
       "    <tr>\n",
       "      <th>3459</th>\n",
       "      <td>2298</td>\n",
       "      <td>victor ( leguizamo ), is trying to escape his ...</td>\n",
       "      <td>objective</td>\n",
       "      <td>victor ( leguizamo ) , is trying to escape his...</td>\n",
       "    </tr>\n",
       "    <tr>\n",
       "      <th>4391</th>\n",
       "      <td>3232</td>\n",
       "      <td>interviews in movie houses, on the street and ...</td>\n",
       "      <td>objective</td>\n",
       "      <td>interviews in movie houses , on the street and...</td>\n",
       "    </tr>\n",
       "    <tr>\n",
       "      <th>8264</th>\n",
       "      <td>7114</td>\n",
       "      <td>friday after next is a lot more bluster than b...</td>\n",
       "      <td>subjective</td>\n",
       "      <td>friday after next is a lot more bluster than b...</td>\n",
       "    </tr>\n",
       "    <tr>\n",
       "      <th>8517</th>\n",
       "      <td>7367</td>\n",
       "      <td>like the best of godard's movies ... it is vis...</td>\n",
       "      <td>subjective</td>\n",
       "      <td>like the best of godard 's movies ... it is vi...</td>\n",
       "    </tr>\n",
       "  </tbody>\n",
       "</table>\n",
       "</div>"
      ],
      "text/plain": [
       "       index                                           sentence       label  \\\n",
       "7943    6793  the film actually gets to tackle some larger q...  subjective   \n",
       "10798   9653  stevens' vibrant creative instincts are the di...  subjective   \n",
       "10349   9203  ever see one of those comedies that just seem ...  subjective   \n",
       "8492    7342                             i'll go out on a limb.  subjective   \n",
       "1135    1147                         Whats a poor parent to do?       other   \n",
       "6142    4983  raunchy though [cho's] material is, it embrace...  subjective   \n",
       "10388   9242  the only upside to all of this unpleasantness ...  subjective   \n",
       "155      156  But then he got over-the-top dirty  pussy grab...  subjective   \n",
       "4119    2960  with the help of an angry young filmmaker, a r...   objective   \n",
       "9851    8705  though a capable thriller, somewhere along the...  subjective   \n",
       "7147    5995  there are a few laughs and clever sight gags s...  subjective   \n",
       "6258    5100  great fun both for sports aficionados and for ...  subjective   \n",
       "7805    6654  serry perfectly captures the peculiar climate,...  subjective   \n",
       "1494     332  a greek film maker ( the narrator ) has his fi...   objective   \n",
       "174      175  At least in public^ Liberals are not willing t...  subjective   \n",
       "9643    8496  destined to make allen's fans around the world...  subjective   \n",
       "3459    2298  victor ( leguizamo ), is trying to escape his ...   objective   \n",
       "4391    3232  interviews in movie houses, on the street and ...   objective   \n",
       "8264    7114  friday after next is a lot more bluster than b...  subjective   \n",
       "8517    7367  like the best of godard's movies ... it is vis...  subjective   \n",
       "\n",
       "                                     sentence_normalized  \n",
       "7943   the film actually gets to tackle some larger q...  \n",
       "10798  stevens ' vibrant creative instincts are the d...  \n",
       "10349  ever see one of those comedies that just seem ...  \n",
       "8492                            i 'll go out on a limb .  \n",
       "1135                         Whats a poor parent to do ?  \n",
       "6142   raunchy though cho 's material is , it embrace...  \n",
       "10388  the only upside to all of this unpleasantness ...  \n",
       "155    But then he got over-the-top dirty pussy grabb...  \n",
       "4119   with the help of an angry young filmmaker , a ...  \n",
       "9851   though a capable thriller , somewhere along th...  \n",
       "7147   there are a few laughs and clever sight gags s...  \n",
       "6258   great fun both for sports aficionados and for ...  \n",
       "7805   serry perfectly captures the peculiar climate ...  \n",
       "1494   a greek film maker ( the narrator ) has his fi...  \n",
       "174    At least in public , Liberals are not willing ...  \n",
       "9643   destined to make allen 's fans around the worl...  \n",
       "3459   victor ( leguizamo ) , is trying to escape his...  \n",
       "4391   interviews in movie houses , on the street and...  \n",
       "8264   friday after next is a lot more bluster than b...  \n",
       "8517   like the best of godard 's movies ... it is vi...  "
      ]
     },
     "execution_count": 79,
     "metadata": {},
     "output_type": "execute_result"
    }
   ],
   "source": [
    "all_df = mtusk_df.append(imdb_df)\n",
    "\n",
    "# Normalize the sentences\n",
    "sent_normalizer = SentenceNormalizer(discarded_tokens=['[', ']'])\n",
    "all_df['sentence_normalized'] = sent_normalizer.fit_transform(all_df['sentence'])\n",
    "\n",
    "# Remove short sentences\n",
    "all_df = all_df[all_df['sentence_normalized'].map(word_count) >= 3]\n",
    "\n",
    "all_df = all_df.reset_index()\n",
    "\n",
    "print('Total number of sentences:', len(all_df.index))\n",
    "all_df.sample(20)"
   ]
  },
  {
   "cell_type": "code",
   "execution_count": 80,
   "metadata": {},
   "outputs": [],
   "source": [
    "# Save to file\n",
    "save_dataset(all_df, \"final.tsv\")"
   ]
  },
  {
   "cell_type": "markdown",
   "metadata": {},
   "source": [
    "## Dataset statistics"
   ]
  },
  {
   "cell_type": "code",
   "execution_count": 81,
   "metadata": {},
   "outputs": [
    {
     "data": {
      "text/plain": [
       "<matplotlib.axes._subplots.AxesSubplot at 0x1788552c940>"
      ]
     },
     "execution_count": 81,
     "metadata": {},
     "output_type": "execute_result"
    },
    {
     "data": {
      "image/png": "[encoded data removed]",
      "text/plain": [
       "<matplotlib.figure.Figure at 0x178859a5cf8>"
      ]
     },
     "metadata": {},
     "output_type": "display_data"
    }
   ],
   "source": [
    "count_label = all_df.groupby(['label']).count().sentence_normalized\n",
    "count_label.plot(kind='bar', rot=45, title=\"Label distribution\")"
   ]
  },
  {
   "cell_type": "code",
   "execution_count": 82,
   "metadata": {},
   "outputs": [
    {
     "name": "stdout",
     "output_type": "stream",
     "text": [
      "Average number of words in each sentence: 23.5\n",
      "\n",
      "Number of word in shortest sentence: 3\n",
      "Its terrible .\n",
      "\n",
      "Number of word in longest sentence: 125\n",
      "as his agent pushes him to be bigger , and valerie , the bakery owner , adds a surprise of her own , stan begins to strain under the pressures of mass production while simultaneously trying to create hand painted masterpieces ... en un ca & # <NUM> ; tico principio del siglo xxi , oleadas de cr & # <NUM> ; menes saturan los informativos , y decenas de sectas tratan de captar la fe de la cada vez m & # <NUM> ; s esc & # <NUM> ; ptica poblaci & # <NUM> ; n. each brush stroke brings him inexorably closer to an unknown fate , a fate that is perhaps foretold in the very visions that fuel his work .\n"
     ]
    },
    {
     "data": {
      "image/png": "[encoded data removed]",
      "text/plain": [
       "<matplotlib.figure.Figure at 0x17885294518>"
      ]
     },
     "metadata": {},
     "output_type": "display_data"
    }
   ],
   "source": [
    "word_count_in_sentence = all_df['sentence_normalized'].map(word_count)\n",
    "ax = word_count_in_sentence.plot.hist(bins=50, title=\"Word count distribution\")\n",
    "ax.set_xlabel(\"Word count\")\n",
    "print('Average number of words in each sentence: %.1f' % word_count_in_sentence.mean())\n",
    "print()\n",
    "\n",
    "print('Number of word in shortest sentence:', word_count_in_sentence.min())\n",
    "print(all_df['sentence_normalized'][word_count_in_sentence.idxmin()])\n",
    "print()\n",
    "\n",
    "print('Number of word in longest sentence:', word_count_in_sentence.max())\n",
    "print(all_df['sentence_normalized'][word_count_in_sentence.idxmax()])"
   ]
  },
  {
   "cell_type": "markdown",
   "metadata": {},
   "source": [
    "## Dataset splitting"
   ]
  },
  {
   "cell_type": "code",
   "execution_count": 83,
   "metadata": {},
   "outputs": [
    {
     "name": "stdout",
     "output_type": "stream",
     "text": [
      "Train size: 9205\n",
      "Val size: 1151\n",
      "Test size: 1151\n"
     ]
    }
   ],
   "source": [
    "SEED = 23\n",
    "\n",
    "test_size = 0.1\n",
    "val_size  = 0.1\n",
    "\n",
    "train_df, test_df = train_test_split(all_df, test_size=test_size, random_state=SEED)\n",
    "train_df, val_df  = train_test_split(train_df, test_size=val_size / (1 - test_size), random_state=SEED)\n",
    "\n",
    "print('Train size:', len(train_df.index))\n",
    "print('Val size:', len(val_df.index))\n",
    "print('Test size:', len(test_df.index))\n",
    "\n",
    "save_dataset(train_df, \"final.train.tsv\")\n",
    "save_dataset(val_df, \"final.val.tsv\")\n",
    "save_dataset(test_df, \"final.test.tsv\")"
   ]
  },
  {
   "cell_type": "code",
   "execution_count": null,
   "metadata": {
    "collapsed": true
   },
   "outputs": [],
   "source": []
  }
 ],
 "metadata": {
  "kernelspec": {
   "display_name": "Python 3",
   "language": "python",
   "name": "python3"
  },
  "language_info": {
   "codemirror_mode": {
    "name": "ipython",
    "version": 3
   },
   "file_extension": ".py",
   "mimetype": "text/x-python",
   "name": "python",
   "nbconvert_exporter": "python",
   "pygments_lexer": "ipython3",
   "version": "3.6.1"
  }
 },
 "nbformat": 4,
 "nbformat_minor": 2
}
