{
 "cells": [
  {
   "cell_type": "code",
   "execution_count": 1,
   "metadata": {
    "collapsed": true
   },
   "outputs": [],
   "source": [
    "import nltk\n",
    "import pandas as pd\n",
    "import numpy as np\n",
    "import os\n",
    "from sklearn.model_selection import train_test_split\n",
    "from preprocess.normalize_sentences import SentenceNormalizer\n",
    "%matplotlib inline\n",
    "\n",
    "DATA_PATH = '../../data/'\n",
    "OUTPUT_PATH = os.path.join(DATA_PATH, 'final')\n",
    "\n",
    "if not os.path.exists(OUTPUT_PATH):\n",
    "    os.mkdir(OUTPUT_PATH)\n",
    "\n",
    "def word_count(sent):\n",
    "    return len(sent.split(' '))\n",
    "\n",
    "\n",
    "def save_dataset(df, file_name):\n",
    "    final_path = os.path.join(OUTPUT_PATH, file_name)\n",
    "    df.to_csv(final_path, index=False, encoding='utf-8', sep='\\t',\n",
    "              columns=['sentence_normalized', 'label'],\n",
    "              header=['sentence', 'label'])\n"
   ]
  },
  {
   "cell_type": "markdown",
   "metadata": {},
   "source": [
    "## Prepare MTurk data"
   ]
  },
  {
   "cell_type": "code",
   "execution_count": 2,
   "metadata": {},
   "outputs": [
    {
     "name": "stdout",
     "output_type": "stream",
     "text": [
      "Total number of sentences in mturk: 4999\n"
     ]
    },
    {
     "data": {
      "text/html": [
       "<div>\n",
       "<table border=\"1\" class=\"dataframe\">\n",
       "  <thead>\n",
       "    <tr style=\"text-align: right;\">\n",
       "      <th></th>\n",
       "      <th>sentence</th>\n",
       "      <th>label</th>\n",
       "    </tr>\n",
       "  </thead>\n",
       "  <tbody>\n",
       "    <tr>\n",
       "      <th>0</th>\n",
       "      <td>I have wrestled the bears of tax burdens and o...</td>\n",
       "      <td>subjective</td>\n",
       "    </tr>\n",
       "    <tr>\n",
       "      <th>1</th>\n",
       "      <td>At times^ the contact was \"rough to the point ...</td>\n",
       "      <td>objective</td>\n",
       "    </tr>\n",
       "    <tr>\n",
       "      <th>2</th>\n",
       "      <td>Not me^ Angela Merkel!</td>\n",
       "      <td>subjective</td>\n",
       "    </tr>\n",
       "    <tr>\n",
       "      <th>3</th>\n",
       "      <td>One that largely hasn't^ at least in any pract...</td>\n",
       "      <td>subjective</td>\n",
       "    </tr>\n",
       "    <tr>\n",
       "      <th>4</th>\n",
       "      <td>The memo identifies seven main areas of progra...</td>\n",
       "      <td>objective</td>\n",
       "    </tr>\n",
       "    <tr>\n",
       "      <th>5</th>\n",
       "      <td>At one point^ FBI sources said^ Abedin and Cli...</td>\n",
       "      <td>objective</td>\n",
       "    </tr>\n",
       "    <tr>\n",
       "      <th>6</th>\n",
       "      <td>This method allows researchers to transmit an ...</td>\n",
       "      <td>objective</td>\n",
       "    </tr>\n",
       "    <tr>\n",
       "      <th>7</th>\n",
       "      <td>Eating disorders^ which affect approximately 2...</td>\n",
       "      <td>objective</td>\n",
       "    </tr>\n",
       "    <tr>\n",
       "      <th>8</th>\n",
       "      <td>\"We have not found anything at this point that...</td>\n",
       "      <td>objective</td>\n",
       "    </tr>\n",
       "    <tr>\n",
       "      <th>9</th>\n",
       "      <td>The real danger wasnt if you played with it^ b...</td>\n",
       "      <td>subjective</td>\n",
       "    </tr>\n",
       "  </tbody>\n",
       "</table>\n",
       "</div>"
      ],
      "text/plain": [
       "                                            sentence       label\n",
       "0  I have wrestled the bears of tax burdens and o...  subjective\n",
       "1  At times^ the contact was \"rough to the point ...   objective\n",
       "2                             Not me^ Angela Merkel!  subjective\n",
       "3  One that largely hasn't^ at least in any pract...  subjective\n",
       "4  The memo identifies seven main areas of progra...   objective\n",
       "5  At one point^ FBI sources said^ Abedin and Cli...   objective\n",
       "6  This method allows researchers to transmit an ...   objective\n",
       "7  Eating disorders^ which affect approximately 2...   objective\n",
       "8  \"We have not found anything at this point that...   objective\n",
       "9  The real danger wasnt if you played with it^ b...  subjective"
      ]
     },
     "execution_count": 2,
     "metadata": {},
     "output_type": "execute_result"
    }
   ],
   "source": [
    "mturk_file = os.path.join(DATA_PATH, 'mturk/results_12.06.17.csv')\n",
    "\n",
    "# Load data\n",
    "mturk_df = pd.read_csv(mturk_file, usecols=['Input.sentence', 'Answer.categories'])\n",
    "mturk_df.columns = ['sentence', 'label']\n",
    "mturk_df['label'] = mturk_df['label'].map({'category 2': 'subjective', 'category 1': 'objective', 'category 3': 'subjective'})\n",
    "print('Total number of sentences in mturk:', len(mturk_df.index))\n",
    "mturk_df.head(10)\n"
   ]
  },
  {
   "cell_type": "markdown",
   "metadata": {},
   "source": [
    "## Prepare IMDB data"
   ]
  },
  {
   "cell_type": "code",
   "execution_count": 3,
   "metadata": {},
   "outputs": [
    {
     "name": "stdout",
     "output_type": "stream",
     "text": [
      "Total number of sentences in imdb: 10367\n"
     ]
    },
    {
     "data": {
      "text/html": [
       "<div>\n",
       "<table border=\"1\" class=\"dataframe\">\n",
       "  <thead>\n",
       "    <tr style=\"text-align: right;\">\n",
       "      <th></th>\n",
       "      <th>sentence</th>\n",
       "      <th>label</th>\n",
       "    </tr>\n",
       "  </thead>\n",
       "  <tbody>\n",
       "    <tr>\n",
       "      <th>5170</th>\n",
       "      <td>the film is ultimately about as inspiring as a...</td>\n",
       "      <td>subjective</td>\n",
       "    </tr>\n",
       "    <tr>\n",
       "      <th>4639</th>\n",
       "      <td>after some time the son and daughter-in-law mu...</td>\n",
       "      <td>objective</td>\n",
       "    </tr>\n",
       "    <tr>\n",
       "      <th>5487</th>\n",
       "      <td>the mushy finale turns john q into a movie-of-...</td>\n",
       "      <td>subjective</td>\n",
       "    </tr>\n",
       "    <tr>\n",
       "      <th>10230</th>\n",
       "      <td>if you like blood, guts and crazy beasts stalk...</td>\n",
       "      <td>subjective</td>\n",
       "    </tr>\n",
       "    <tr>\n",
       "      <th>7202</th>\n",
       "      <td>its story about a young chinese woman, ah na, ...</td>\n",
       "      <td>subjective</td>\n",
       "    </tr>\n",
       "    <tr>\n",
       "      <th>6787</th>\n",
       "      <td>though jones and snipes are enthralling, the m...</td>\n",
       "      <td>subjective</td>\n",
       "    </tr>\n",
       "    <tr>\n",
       "      <th>7113</th>\n",
       "      <td>this film can only point the way -- but thank ...</td>\n",
       "      <td>subjective</td>\n",
       "    </tr>\n",
       "    <tr>\n",
       "      <th>7899</th>\n",
       "      <td>what a pity ... that the material is so second...</td>\n",
       "      <td>subjective</td>\n",
       "    </tr>\n",
       "    <tr>\n",
       "      <th>3840</th>\n",
       "      <td>the story follows a university of texas profes...</td>\n",
       "      <td>objective</td>\n",
       "    </tr>\n",
       "    <tr>\n",
       "      <th>3454</th>\n",
       "      <td>holmes&lt;/a&gt; was the worlds best known male acto...</td>\n",
       "      <td>objective</td>\n",
       "    </tr>\n",
       "  </tbody>\n",
       "</table>\n",
       "</div>"
      ],
      "text/plain": [
       "                                                sentence       label\n",
       "5170   the film is ultimately about as inspiring as a...  subjective\n",
       "4639   after some time the son and daughter-in-law mu...   objective\n",
       "5487   the mushy finale turns john q into a movie-of-...  subjective\n",
       "10230  if you like blood, guts and crazy beasts stalk...  subjective\n",
       "7202   its story about a young chinese woman, ah na, ...  subjective\n",
       "6787   though jones and snipes are enthralling, the m...  subjective\n",
       "7113   this film can only point the way -- but thank ...  subjective\n",
       "7899   what a pity ... that the material is so second...  subjective\n",
       "3840   the story follows a university of texas profes...   objective\n",
       "3454   holmes</a> was the worlds best known male acto...   objective"
      ]
     },
     "execution_count": 3,
     "metadata": {},
     "output_type": "execute_result"
    }
   ],
   "source": [
    "imdb_file = os.path.join(DATA_PATH, 'imdb/all.tsv')\n",
    "\n",
    "# Load data\n",
    "imdb_df = pd.read_csv(imdb_file, sep='\\t', usecols=['sentence', 'file_name'])\n",
    "imdb_df.columns = ['sentence', 'label']\n",
    "imdb_df['label'] = imdb_df['label'].map({'subjective.txt': 'subjective', 'objective.txt': 'objective'})\n",
    "\n",
    "print('Total number of sentences in imdb:', len(imdb_df.index))\n",
    "imdb_df.sample(10)"
   ]
  },
  {
   "cell_type": "markdown",
   "metadata": {},
   "source": [
    "## Prepare Wiki data"
   ]
  },
  {
   "cell_type": "code",
   "execution_count": 4,
   "metadata": {},
   "outputs": [
    {
     "name": "stdout",
     "output_type": "stream",
     "text": [
      "Total number of sentences in wiki: 646\n"
     ]
    },
    {
     "data": {
      "text/html": [
       "<div>\n",
       "<table border=\"1\" class=\"dataframe\">\n",
       "  <thead>\n",
       "    <tr style=\"text-align: right;\">\n",
       "      <th></th>\n",
       "      <th>sentence</th>\n",
       "      <th>label</th>\n",
       "    </tr>\n",
       "  </thead>\n",
       "  <tbody>\n",
       "    <tr>\n",
       "      <th>390</th>\n",
       "      <td>Proponents of Ethnic studies feel that this is...</td>\n",
       "      <td>objective</td>\n",
       "    </tr>\n",
       "    <tr>\n",
       "      <th>642</th>\n",
       "      <td>He was a Russian representative at the wedding...</td>\n",
       "      <td>subjective</td>\n",
       "    </tr>\n",
       "    <tr>\n",
       "      <th>14</th>\n",
       "      <td>Memory boards for the Altair line included 1K,...</td>\n",
       "      <td>objective</td>\n",
       "    </tr>\n",
       "    <tr>\n",
       "      <th>625</th>\n",
       "      <td>Like many outstanding artists of her time, Bas...</td>\n",
       "      <td>subjective</td>\n",
       "    </tr>\n",
       "    <tr>\n",
       "      <th>182</th>\n",
       "      <td>Fishing and tourism occupy many people, especi...</td>\n",
       "      <td>objective</td>\n",
       "    </tr>\n",
       "    <tr>\n",
       "      <th>48</th>\n",
       "      <td>The new manufacturing line had a few serious p...</td>\n",
       "      <td>objective</td>\n",
       "    </tr>\n",
       "    <tr>\n",
       "      <th>133</th>\n",
       "      <td>The story of Math Invaders takes off as the hu...</td>\n",
       "      <td>objective</td>\n",
       "    </tr>\n",
       "    <tr>\n",
       "      <th>199</th>\n",
       "      <td>Augustine is traditionally credited with bring...</td>\n",
       "      <td>objective</td>\n",
       "    </tr>\n",
       "    <tr>\n",
       "      <th>612</th>\n",
       "      <td>She is usually portrayed with a red-hued face,...</td>\n",
       "      <td>subjective</td>\n",
       "    </tr>\n",
       "    <tr>\n",
       "      <th>273</th>\n",
       "      <td>These units are still in very good condition w...</td>\n",
       "      <td>objective</td>\n",
       "    </tr>\n",
       "  </tbody>\n",
       "</table>\n",
       "</div>"
      ],
      "text/plain": [
       "                                              sentence       label\n",
       "390  Proponents of Ethnic studies feel that this is...   objective\n",
       "642  He was a Russian representative at the wedding...  subjective\n",
       "14   Memory boards for the Altair line included 1K,...   objective\n",
       "625  Like many outstanding artists of her time, Bas...  subjective\n",
       "182  Fishing and tourism occupy many people, especi...   objective\n",
       "48   The new manufacturing line had a few serious p...   objective\n",
       "133  The story of Math Invaders takes off as the hu...   objective\n",
       "199  Augustine is traditionally credited with bring...   objective\n",
       "612  She is usually portrayed with a red-hued face,...  subjective\n",
       "273  These units are still in very good condition w...   objective"
      ]
     },
     "execution_count": 4,
     "metadata": {},
     "output_type": "execute_result"
    }
   ],
   "source": [
    "wiki_file = os.path.join(DATA_PATH, 'wiki/all.tsv')\n",
    "\n",
    "# Load data\n",
    "wiki_df = pd.read_csv(wiki_file, sep='\\t', usecols=['sentence', 'file_name'])\n",
    "wiki_df.columns = ['sentence', 'label']\n",
    "wiki_df['label'] = wiki_df['label'].map({'subjective.txt': 'subjective', 'objective.txt': 'objective'})\n",
    "\n",
    "print('Total number of sentences in wiki:', len(wiki_df.index))\n",
    "wiki_df.sample(10)"
   ]
  },
  {
   "cell_type": "code",
   "execution_count": 5,
   "metadata": {},
   "outputs": [
    {
     "name": "stdout",
     "output_type": "stream",
     "text": [
      "Total number of sentences in custom: 896\n"
     ]
    },
    {
     "data": {
      "text/html": [
       "<div>\n",
       "<table border=\"1\" class=\"dataframe\">\n",
       "  <thead>\n",
       "    <tr style=\"text-align: right;\">\n",
       "      <th></th>\n",
       "      <th>sentence</th>\n",
       "      <th>label</th>\n",
       "    </tr>\n",
       "  </thead>\n",
       "  <tbody>\n",
       "    <tr>\n",
       "      <th>762</th>\n",
       "      <td>This is a very awful hand.</td>\n",
       "      <td>subjective</td>\n",
       "    </tr>\n",
       "    <tr>\n",
       "      <th>314</th>\n",
       "      <td>A lot is a lot.</td>\n",
       "      <td>objective</td>\n",
       "    </tr>\n",
       "    <tr>\n",
       "      <th>281</th>\n",
       "      <td>A woman is a woman.</td>\n",
       "      <td>objective</td>\n",
       "    </tr>\n",
       "    <tr>\n",
       "      <th>680</th>\n",
       "      <td>This is a very silly education.</td>\n",
       "      <td>subjective</td>\n",
       "    </tr>\n",
       "    <tr>\n",
       "      <th>255</th>\n",
       "      <td>That is the door.</td>\n",
       "      <td>objective</td>\n",
       "    </tr>\n",
       "    <tr>\n",
       "      <th>787</th>\n",
       "      <td>This is a very silly place.</td>\n",
       "      <td>subjective</td>\n",
       "    </tr>\n",
       "    <tr>\n",
       "      <th>664</th>\n",
       "      <td>This number is very best.</td>\n",
       "      <td>subjective</td>\n",
       "    </tr>\n",
       "    <tr>\n",
       "      <th>344</th>\n",
       "      <td>A kid is a kid.</td>\n",
       "      <td>objective</td>\n",
       "    </tr>\n",
       "    <tr>\n",
       "      <th>678</th>\n",
       "      <td>This family is very stupid.</td>\n",
       "      <td>subjective</td>\n",
       "    </tr>\n",
       "    <tr>\n",
       "      <th>539</th>\n",
       "      <td>This question is very awful.</td>\n",
       "      <td>subjective</td>\n",
       "    </tr>\n",
       "  </tbody>\n",
       "</table>\n",
       "</div>"
      ],
      "text/plain": [
       "                            sentence       label\n",
       "762       This is a very awful hand.  subjective\n",
       "314                  A lot is a lot.   objective\n",
       "281              A woman is a woman.   objective\n",
       "680  This is a very silly education.  subjective\n",
       "255                That is the door.   objective\n",
       "787      This is a very silly place.  subjective\n",
       "664        This number is very best.  subjective\n",
       "344                  A kid is a kid.   objective\n",
       "678      This family is very stupid.  subjective\n",
       "539     This question is very awful.  subjective"
      ]
     },
     "execution_count": 5,
     "metadata": {},
     "output_type": "execute_result"
    }
   ],
   "source": [
    "custom_file = os.path.join(DATA_PATH, 'custom/all.tsv')\n",
    "\n",
    "# Load data\n",
    "custom_df = pd.read_csv(custom_file, sep='\\t', usecols=['sentence', 'file_name'])\n",
    "custom_df.columns = ['sentence', 'label']\n",
    "custom_df['label'] = custom_df['label'].map({'subjective.txt': 'subjective', 'objective.txt': 'objective'})\n",
    "\n",
    "print('Total number of sentences in custom:', len(custom_df.index))\n",
    "custom_df.sample(10)"
   ]
  },
  {
   "cell_type": "markdown",
   "metadata": {},
   "source": [
    "## Combine MTurk, IMDB, Wiki, and Custom, clean, then save"
   ]
  },
  {
   "cell_type": "code",
   "execution_count": 7,
   "metadata": {},
   "outputs": [
    {
     "name": "stdout",
     "output_type": "stream",
     "text": [
      "Total number of sentences: 16769\n"
     ]
    },
    {
     "data": {
      "text/html": [
       "<div>\n",
       "<table border=\"1\" class=\"dataframe\">\n",
       "  <thead>\n",
       "    <tr style=\"text-align: right;\">\n",
       "      <th></th>\n",
       "      <th>index</th>\n",
       "      <th>sentence</th>\n",
       "      <th>label</th>\n",
       "      <th>sentence_normalized</th>\n",
       "    </tr>\n",
       "  </thead>\n",
       "  <tbody>\n",
       "    <tr>\n",
       "      <th>12200</th>\n",
       "      <td>7309</td>\n",
       "      <td>an artful yet depressing film that makes a mel...</td>\n",
       "      <td>subjective</td>\n",
       "      <td>an artful yet depressing film that makes a mel...</td>\n",
       "    </tr>\n",
       "    <tr>\n",
       "      <th>4543</th>\n",
       "      <td>4619</td>\n",
       "      <td>\"I just think the whole idea is just messed up...</td>\n",
       "      <td>subjective</td>\n",
       "      <td>`` I just think the whole idea is just messed ...</td>\n",
       "    </tr>\n",
       "    <tr>\n",
       "      <th>2930</th>\n",
       "      <td>2973</td>\n",
       "      <td>Kim is also believed to have led a purge that ...</td>\n",
       "      <td>subjective</td>\n",
       "      <td>Kim is also believed to have led a purge that ...</td>\n",
       "    </tr>\n",
       "    <tr>\n",
       "      <th>3505</th>\n",
       "      <td>3559</td>\n",
       "      <td>However^ just on the basis of your description...</td>\n",
       "      <td>subjective</td>\n",
       "      <td>However just on the basis of your description ...</td>\n",
       "    </tr>\n",
       "    <tr>\n",
       "      <th>11467</th>\n",
       "      <td>6572</td>\n",
       "      <td>however, its sins are forgivably venial, becau...</td>\n",
       "      <td>subjective</td>\n",
       "      <td>however its sins are forgivably venial because...</td>\n",
       "    </tr>\n",
       "    <tr>\n",
       "      <th>596</th>\n",
       "      <td>601</td>\n",
       "      <td>But I have come to appreciate how good an ice ...</td>\n",
       "      <td>subjective</td>\n",
       "      <td>But I have come to appreciate how good an ice ...</td>\n",
       "    </tr>\n",
       "    <tr>\n",
       "      <th>11020</th>\n",
       "      <td>6122</td>\n",
       "      <td>a continually fascinating exploration of the p...</td>\n",
       "      <td>subjective</td>\n",
       "      <td>a continually fascinating exploration of the p...</td>\n",
       "    </tr>\n",
       "    <tr>\n",
       "      <th>12465</th>\n",
       "      <td>7574</td>\n",
       "      <td>does anyone much think the central story of br...</td>\n",
       "      <td>subjective</td>\n",
       "      <td>does anyone much think the central story of br...</td>\n",
       "    </tr>\n",
       "    <tr>\n",
       "      <th>9744</th>\n",
       "      <td>4833</td>\n",
       "      <td>a young man in his early early 20's discovers ...</td>\n",
       "      <td>objective</td>\n",
       "      <td>a young man in his early early &lt;NUM&gt; 's discov...</td>\n",
       "    </tr>\n",
       "    <tr>\n",
       "      <th>16734</th>\n",
       "      <td>861</td>\n",
       "      <td>This face is very awful.</td>\n",
       "      <td>subjective</td>\n",
       "      <td>This face is very awful</td>\n",
       "    </tr>\n",
       "    <tr>\n",
       "      <th>10495</th>\n",
       "      <td>5589</td>\n",
       "      <td>wells had a time machine and could take a look...</td>\n",
       "      <td>subjective</td>\n",
       "      <td>wells had a time machine and could take a look...</td>\n",
       "    </tr>\n",
       "    <tr>\n",
       "      <th>12891</th>\n",
       "      <td>8002</td>\n",
       "      <td>phillip noyce and all of his actors -- as well...</td>\n",
       "      <td>subjective</td>\n",
       "      <td>phillip noyce and all of his actors -- as well...</td>\n",
       "    </tr>\n",
       "    <tr>\n",
       "      <th>10407</th>\n",
       "      <td>5500</td>\n",
       "      <td>an intense and effective film about loneliness...</td>\n",
       "      <td>subjective</td>\n",
       "      <td>an intense and effective film about loneliness...</td>\n",
       "    </tr>\n",
       "    <tr>\n",
       "      <th>11727</th>\n",
       "      <td>6834</td>\n",
       "      <td>rare is the'urban comedy' that even attempts t...</td>\n",
       "      <td>subjective</td>\n",
       "      <td>rare is the'urban comedy that even attempts th...</td>\n",
       "    </tr>\n",
       "    <tr>\n",
       "      <th>4055</th>\n",
       "      <td>4121</td>\n",
       "      <td>Click through to collectSPACE.com to watch Fra...</td>\n",
       "      <td>subjective</td>\n",
       "      <td>Click through to &lt;URL&gt; to watch Franklin Chang...</td>\n",
       "    </tr>\n",
       "    <tr>\n",
       "      <th>4113</th>\n",
       "      <td>4180</td>\n",
       "      <td>We hope Stacey Dash will make that fact clear ...</td>\n",
       "      <td>subjective</td>\n",
       "      <td>We hope Stacey Dash will make that fact clear ...</td>\n",
       "    </tr>\n",
       "    <tr>\n",
       "      <th>2503</th>\n",
       "      <td>2543</td>\n",
       "      <td>My family was trying to talk me out of it [bec...</td>\n",
       "      <td>subjective</td>\n",
       "      <td>My family was trying to talk me out of it beca...</td>\n",
       "    </tr>\n",
       "    <tr>\n",
       "      <th>9321</th>\n",
       "      <td>4410</td>\n",
       "      <td>in order to make something of himself, dean as...</td>\n",
       "      <td>objective</td>\n",
       "      <td>in order to make something of himself dean ass...</td>\n",
       "    </tr>\n",
       "    <tr>\n",
       "      <th>10085</th>\n",
       "      <td>5177</td>\n",
       "      <td>an interesting psychological game of cat-and-m...</td>\n",
       "      <td>subjective</td>\n",
       "      <td>an interesting psychological game of cat-and-m...</td>\n",
       "    </tr>\n",
       "    <tr>\n",
       "      <th>9030</th>\n",
       "      <td>4119</td>\n",
       "      <td>the chase is on- the russians, whose dna code ...</td>\n",
       "      <td>objective</td>\n",
       "      <td>the chase is on- the russians whose dna code i...</td>\n",
       "    </tr>\n",
       "  </tbody>\n",
       "</table>\n",
       "</div>"
      ],
      "text/plain": [
       "       index                                           sentence       label  \\\n",
       "12200   7309  an artful yet depressing film that makes a mel...  subjective   \n",
       "4543    4619  \"I just think the whole idea is just messed up...  subjective   \n",
       "2930    2973  Kim is also believed to have led a purge that ...  subjective   \n",
       "3505    3559  However^ just on the basis of your description...  subjective   \n",
       "11467   6572  however, its sins are forgivably venial, becau...  subjective   \n",
       "596      601  But I have come to appreciate how good an ice ...  subjective   \n",
       "11020   6122  a continually fascinating exploration of the p...  subjective   \n",
       "12465   7574  does anyone much think the central story of br...  subjective   \n",
       "9744    4833  a young man in his early early 20's discovers ...   objective   \n",
       "16734    861                           This face is very awful.  subjective   \n",
       "10495   5589  wells had a time machine and could take a look...  subjective   \n",
       "12891   8002  phillip noyce and all of his actors -- as well...  subjective   \n",
       "10407   5500  an intense and effective film about loneliness...  subjective   \n",
       "11727   6834  rare is the'urban comedy' that even attempts t...  subjective   \n",
       "4055    4121  Click through to collectSPACE.com to watch Fra...  subjective   \n",
       "4113    4180  We hope Stacey Dash will make that fact clear ...  subjective   \n",
       "2503    2543  My family was trying to talk me out of it [bec...  subjective   \n",
       "9321    4410  in order to make something of himself, dean as...   objective   \n",
       "10085   5177  an interesting psychological game of cat-and-m...  subjective   \n",
       "9030    4119  the chase is on- the russians, whose dna code ...   objective   \n",
       "\n",
       "                                     sentence_normalized  \n",
       "12200  an artful yet depressing film that makes a mel...  \n",
       "4543   `` I just think the whole idea is just messed ...  \n",
       "2930   Kim is also believed to have led a purge that ...  \n",
       "3505   However just on the basis of your description ...  \n",
       "11467  however its sins are forgivably venial because...  \n",
       "596    But I have come to appreciate how good an ice ...  \n",
       "11020  a continually fascinating exploration of the p...  \n",
       "12465  does anyone much think the central story of br...  \n",
       "9744   a young man in his early early <NUM> 's discov...  \n",
       "16734                            This face is very awful  \n",
       "10495  wells had a time machine and could take a look...  \n",
       "12891  phillip noyce and all of his actors -- as well...  \n",
       "10407  an intense and effective film about loneliness...  \n",
       "11727  rare is the'urban comedy that even attempts th...  \n",
       "4055   Click through to <URL> to watch Franklin Chang...  \n",
       "4113   We hope Stacey Dash will make that fact clear ...  \n",
       "2503   My family was trying to talk me out of it beca...  \n",
       "9321   in order to make something of himself dean ass...  \n",
       "10085  an interesting psychological game of cat-and-m...  \n",
       "9030   the chase is on- the russians whose dna code i...  "
      ]
     },
     "execution_count": 7,
     "metadata": {},
     "output_type": "execute_result"
    }
   ],
   "source": [
    "all_df = mturk_df.append(imdb_df).append(wiki_df).append(custom_df)\n",
    "\n",
    "# Normalize the sentences\n",
    "sent_normalizer = SentenceNormalizer(discarded_tokens=['[', ']'])\n",
    "all_df['sentence_normalized'] = sent_normalizer.fit_transform(all_df['sentence'])\n",
    "\n",
    "# Remove short sentences\n",
    "all_df = all_df[all_df['sentence_normalized'].map(word_count) >= 3]\n",
    "# Remove long sentences\n",
    "\n",
    "def cut_off(sent):\n",
    "    return ' '.join(sent.split()[:60])\n",
    "\n",
    "all_df['sentence_normalized'] = all_df['sentence_normalized'].map(cut_off)\n",
    "\n",
    "all_df = all_df.reset_index()\n",
    "\n",
    "print('Total number of sentences:', len(all_df.index))\n",
    "all_df.sample(20)"
   ]
  },
  {
   "cell_type": "code",
   "execution_count": 8,
   "metadata": {
    "collapsed": true
   },
   "outputs": [],
   "source": [
    "# Save to file\n",
    "save_dataset(all_df, \"final.tsv\")"
   ]
  },
  {
   "cell_type": "markdown",
   "metadata": {},
   "source": [
    "## Dataset statistics"
   ]
  },
  {
   "cell_type": "code",
   "execution_count": 9,
   "metadata": {},
   "outputs": [
    {
     "data": {
      "text/plain": [
       "<matplotlib.axes._subplots.AxesSubplot at 0x1c4a219f0b8>"
      ]
     },
     "execution_count": 9,
     "metadata": {},
     "output_type": "execute_result"
    },
    {
     "data": {
      "image/png": "[encoded data removed]",
      "text/plain": [
       "<matplotlib.figure.Figure at 0x1c4a22d5b38>"
      ]
     },
     "metadata": {},
     "output_type": "display_data"
    }
   ],
   "source": [
    "count_label = all_df.groupby(['label']).count().sentence_normalized\n",
    "count_label.plot(kind='bar', rot=45, title=\"Label distribution\")\n",
    "# print(count_label['other'])"
   ]
  },
  {
   "cell_type": "code",
   "execution_count": 10,
   "metadata": {
    "scrolled": false
   },
   "outputs": [
    {
     "name": "stdout",
     "output_type": "stream",
     "text": [
      "Average number of words in each sentence: 20.3\n",
      "\n",
      "Number of word in shortest sentence: 3\n",
      "<NUM> in <NUM>\n",
      "\n",
      "Number of word in longest sentence: 60\n",
      "The vast majority of those who received Tuesday afternoons robocall -perhaps out of fear of nuclear annihilation- didnt stay on the line long enough to find out that the call had been paid for by Ted Cruz for President and according to the Texas senators campaign manager was meant to merely warn voters of the dangers of a Trump presidency\n"
     ]
    },
    {
     "data": {
      "image/png": "[encoded data removed]",
      "text/plain": [
       "<matplotlib.figure.Figure at 0x1c4a2571668>"
      ]
     },
     "metadata": {},
     "output_type": "display_data"
    }
   ],
   "source": [
    "word_count_in_sentence = all_df['sentence_normalized'].map(word_count)\n",
    "ax = word_count_in_sentence.plot.hist(bins=50, title=\"Word count distribution\")\n",
    "ax.set_xlabel(\"Word count\")\n",
    "print('Average number of words in each sentence: %.1f' % word_count_in_sentence.mean())\n",
    "print()\n",
    "\n",
    "print('Number of word in shortest sentence:', word_count_in_sentence.min())\n",
    "print(all_df['sentence_normalized'][word_count_in_sentence.idxmin()])\n",
    "print()\n",
    "\n",
    "print('Number of word in longest sentence:', word_count_in_sentence.max())\n",
    "print(all_df['sentence_normalized'][word_count_in_sentence.idxmax()])"
   ]
  },
  {
   "cell_type": "markdown",
   "metadata": {},
   "source": [
    "## Dataset splitting"
   ]
  },
  {
   "cell_type": "code",
   "execution_count": 11,
   "metadata": {},
   "outputs": [
    {
     "name": "stdout",
     "output_type": "stream",
     "text": [
      "Train size: 13415\n",
      "Val size: 1677\n",
      "Test size: 1677\n"
     ]
    }
   ],
   "source": [
    "SEED = 23\n",
    "\n",
    "test_size = 0.1\n",
    "val_size  = 0.1\n",
    "\n",
    "train_df, test_df = train_test_split(all_df, test_size=test_size, random_state=SEED)\n",
    "train_df, val_df  = train_test_split(train_df, test_size=val_size / (1 - test_size), random_state=SEED)\n",
    "\n",
    "print('Train size:', len(train_df.index))\n",
    "print('Val size:', len(val_df.index))\n",
    "print('Test size:', len(test_df.index))\n",
    "\n",
    "save_dataset(train_df, \"final.train.tsv\")\n",
    "save_dataset(val_df, \"final.val.tsv\")\n",
    "save_dataset(test_df, \"final.test.tsv\")"
   ]
  },
  {
   "cell_type": "code",
   "execution_count": null,
   "metadata": {
    "collapsed": true
   },
   "outputs": [],
   "source": []
  }
 ],
 "metadata": {
  "kernelspec": {
   "display_name": "Python 3",
   "language": "python",
   "name": "python3"
  },
  "language_info": {
   "codemirror_mode": {
    "name": "ipython",
    "version": 3
   },
   "file_extension": ".py",
   "mimetype": "text/x-python",
   "name": "python",
   "nbconvert_exporter": "python",
   "pygments_lexer": "ipython3",
   "version": "3.6.1"
  }
 },
 "nbformat": 4,
 "nbformat_minor": 2
}
