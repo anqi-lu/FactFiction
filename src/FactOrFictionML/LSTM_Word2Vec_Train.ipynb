{
 "cells": [
  {
   "cell_type": "markdown",
   "metadata": {},
   "source": [
    "# Simple LSTM model"
   ]
  },
  {
   "cell_type": "code",
   "execution_count": 1,
   "metadata": {},
   "outputs": [
    {
     "name": "stdout",
     "output_type": "stream",
     "text": [
      "2.3\n"
     ]
    }
   ],
   "source": [
    "import os\n",
    "import cntk as C\n",
    "import numpy as np\n",
    "import copy\n",
    "import matplotlib.pyplot as plt\n",
    "import cntk.tests.test_utils\n",
    "cntk.tests.test_utils.set_device_from_pytest_env() # (only needed for our build system)\n",
    "C.cntk_py.set_fixed_random_seed(1) # fix a random seed for CNTK components\n",
    "%matplotlib inline\n",
    "\n",
    "azureml_share_env = 'AZUREML_NATIVE_SHARE_DIRECTORY'\n",
    "is_azure_ml = azureml_share_env in os.environ\n",
    "share_path = os.environ[azureml_share_env] if is_azure_ml else '../../'\n",
    "\n",
    "train_path = os.path.join(share_path, \"data/final/final.train.w2v.ctf\")\n",
    "val_path = os.path.join(share_path, \"data/final/final.val.w2v.ctf\")\n",
    "test_path = os.path.join(share_path, \"data/final/final.test.w2v.ctf\")\n",
    "\n",
    "print(C.__version__)"
   ]
  },
  {
   "cell_type": "code",
   "execution_count": 2,
   "metadata": {},
   "outputs": [],
   "source": [
    "# Creates the reader\n",
    "def create_reader(path, is_training, input_dim, label_dim):\n",
    "    return C.io.MinibatchSource(C.io.CTFDeserializer(path, C.io.StreamDefs(\n",
    "        features = C.io.StreamDef(field='S0', shape=input_dim,   is_sparse=False),\n",
    "        labels   = C.io.StreamDef(field='S1', shape=label_dim,   is_sparse=False)\n",
    "    )), randomize=is_training, max_sweeps = C.io.INFINITELY_REPEAT if is_training else 1)\n",
    "\n",
    "# Defines the LSTM model for classifying sequences\n",
    "def lstm_sequence_classifier(features, num_classes, LSTM_dim):\n",
    "    classifier = C.layers.Sequential([C.layers.Recurrence(C.layers.LSTM(LSTM_dim), go_backwards=False),\n",
    "                                      C.sequence.last,\n",
    "                                      C.layers.Dense(num_classes, name='dense')])\n",
    "    return classifier(features)"
   ]
  },
  {
   "cell_type": "markdown",
   "metadata": {},
   "source": [
    "#### Train the model"
   ]
  },
  {
   "cell_type": "code",
   "execution_count": 3,
   "metadata": {},
   "outputs": [],
   "source": [
    "class HistoryTracker(C.logging.TrainingSummaryProgressCallback):\n",
    "    \n",
    "    def __init__(self, epoch_size):\n",
    "        def do_nothing():\n",
    "            pass\n",
    "        super(HistoryTracker, self).__init__(epoch_size, do_nothing)\n",
    "        self.train_history = []\n",
    "        self.test_history = []\n",
    "    \n",
    "    def on_write_training_summary(self, samples, updates, summaries, aggregate_loss, aggregate_metric, elapsed_milliseconds):\n",
    "        self.train_history.append(aggregate_metric*1.0/samples)\n",
    "        \n",
    "    def on_write_test_summary(self, samples, updates, summaries, aggregate_metric, elapsed_milliseconds):\n",
    "        self.test_history.append(aggregate_metric*1.0/samples)\n",
    "\n",
    "\n",
    "def train(reader, reader_val, model, loss, metric, max_epochs=10):\n",
    "    epoch_size = 9206 # Total number of sequences\n",
    "    minibatch_size = 300 # Minimum number of tokens being fetched in a minibatch\n",
    "\n",
    "    epoch_size_val = 1150\n",
    "\n",
    "    progress_printer = C.logging.ProgressPrinter(freq=150,\n",
    "                                                 tag='Training',\n",
    "                                                 num_epochs=max_epochs)\n",
    "    \n",
    "    # epoch_size*20 is the estimate of the total number of tokens\n",
    "    history_tracker = HistoryTracker(epoch_size*20)\n",
    "    \n",
    "    # SGD learner\n",
    "    #lr_per_sample = C.learners.learning_rate_schedule(0.0015, C.learners.UnitType.sample)\n",
    "    # learner = C.learners.sgd(model.parameters, lr=lr_per_sample)\n",
    "\n",
    "    lr_schedule = C.learning_parameter_schedule([1.0]*3 + [0.8]*2 + [0.6]*1,\n",
    "                                                 minibatch_size=C.learners.IGNORE,\n",
    "                                                 epoch_size=epoch_size)\n",
    "    t_schedule = C.momentum_schedule(0.971, minibatch_size=C.learners.IGNORE)\n",
    "    learner = adadelta = C.adadelta(model.parameters, lr_schedule, 0.999, 1e-6)\n",
    "\n",
    "    trainer = C.Trainer(model, (loss, metric),\n",
    "                        learner,\n",
    "                        [progress_printer, history_tracker])\n",
    "\n",
    "    input_map = {\n",
    "        features : reader.streams.features,\n",
    "        labels   : reader.streams.labels\n",
    "    }\n",
    "    \n",
    "    for epoch in range(max_epochs):\n",
    "        # Train on one epoch\n",
    "        t = 0\n",
    "        while t < epoch_size:\n",
    "            mb = reader.next_minibatch(minibatch_size, input_map=input_map)\n",
    "            trainer.train_minibatch(mb)\n",
    "            t += mb[labels].num_samples # Current number of read sequences\n",
    "        trainer.summarize_training_progress()\n",
    "\n",
    "        # Evaluate validation set after one epoch\n",
    "        t = 0\n",
    "        while t < epoch_size_val:\n",
    "            mb = reader_val.next_minibatch(minibatch_size, input_map=input_map)\n",
    "            trainer.test_minibatch(mb)\n",
    "            t += mb[labels].num_samples\n",
    "\n",
    "        trainer.summarize_test_progress()\n",
    "    \n",
    "    return (history_tracker.train_history, history_tracker.test_history)"
   ]
  },
  {
   "cell_type": "code",
   "execution_count": 6,
   "metadata": {
    "scrolled": false
   },
   "outputs": [
    {
     "name": "stdout",
     "output_type": "stream",
     "text": [
      "Learning rate per minibatch: 1.0\n",
      " Minibatch[   1- 150]: loss = 0.637047 * 2045, metric = 30.07% * 2045;\n",
      " Minibatch[ 151- 300]: loss = 0.505456 * 2036, metric = 21.66% * 2036;\n",
      " Minibatch[ 301- 450]: loss = 0.465856 * 2029, metric = 17.84% * 2029;\n",
      " Minibatch[ 451- 600]: loss = 0.398592 * 2035, metric = 15.23% * 2035;\n",
      "Finished Epoch[1 of 10]: [Training] loss = 0.495860 * 9213, metric = 20.98% * 9213 80.369s (114.6 samples/s);\n",
      "Finished Evaluation [1]: Minibatch[1-85]: metric = 14.90% * 1161;\n",
      " Minibatch[   1- 150]: loss = 0.399987 * 2083, metric = 15.60% * 2083;\n",
      " Minibatch[ 151- 300]: loss = 0.405780 * 2060, metric = 15.53% * 2060;\n",
      " Minibatch[ 301- 450]: loss = 0.363290 * 2007, metric = 13.35% * 2007;\n",
      " Minibatch[ 451- 600]: loss = 0.415483 * 2019, metric = 16.00% * 2019;\n",
      "Finished Epoch[2 of 10]: [Training] loss = 0.399481 * 9207, metric = 15.29% * 9207 84.423s (109.1 samples/s);\n",
      "Finished Evaluation [2]: Minibatch[1-85]: metric = 13.80% * 1152;\n",
      " Minibatch[   1- 150]: loss = 0.367265 * 2058, metric = 14.63% * 2058;\n",
      " Minibatch[ 151- 300]: loss = 0.352750 * 2072, metric = 13.66% * 2072;\n",
      " Minibatch[ 301- 450]: loss = 0.332039 * 2047, metric = 13.14% * 2047;\n",
      " Minibatch[ 451- 600]: loss = 0.321231 * 2006, metric = 12.36% * 2006;\n",
      "Finished Epoch[3 of 10]: [Training] loss = 0.343567 * 9210, metric = 13.41% * 9210 87.291s (105.5 samples/s);\n",
      "Finished Evaluation [3]: Minibatch[1-84]: metric = 12.32% * 1153;\n",
      "Learning rate per minibatch: 0.8\n",
      " Minibatch[   1- 150]: loss = 0.299418 * 2044, metric = 11.89% * 2044;\n",
      " Minibatch[ 151- 300]: loss = 0.327925 * 2035, metric = 12.83% * 2035;\n",
      " Minibatch[ 301- 450]: loss = 0.303338 * 2039, metric = 11.67% * 2039;\n",
      " Minibatch[ 451- 600]: loss = 0.298794 * 2009, metric = 11.95% * 2009;\n",
      "Finished Epoch[4 of 10]: [Training] loss = 0.306863 * 9209, metric = 11.97% * 9209 88.132s (104.5 samples/s);\n",
      "Finished Evaluation [4]: Minibatch[1-86]: metric = 13.28% * 1160;\n",
      " Minibatch[   1- 150]: loss = 0.301250 * 2078, metric = 11.45% * 2078;\n",
      " Minibatch[ 151- 300]: loss = 0.284545 * 2023, metric = 11.12% * 2023;\n",
      " Minibatch[ 301- 450]: loss = 0.273292 * 2031, metric = 11.08% * 2031;\n",
      " Minibatch[ 451- 600]: loss = 0.273825 * 1991, metric = 10.45% * 1991;\n",
      "Learning rate per minibatch: 0.6\n",
      "Finished Epoch[5 of 10]: [Training] loss = 0.284479 * 9221, metric = 11.13% * 9221 90.135s (102.3 samples/s);\n",
      "Finished Evaluation [5]: Minibatch[1-85]: metric = 13.37% * 1159;\n",
      " Minibatch[   1- 150]: loss = 0.259549 * 2014, metric = 9.63% * 2014;\n",
      " Minibatch[ 151- 300]: loss = 0.243524 * 2056, metric = 9.68% * 2056;\n",
      " Minibatch[ 301- 450]: loss = 0.254007 * 2032, metric = 10.38% * 2032;\n",
      " Minibatch[ 451- 600]: loss = 0.253589 * 2028, metric = 10.65% * 2028;\n",
      "Finished Epoch[6 of 10]: [Training] loss = 0.257194 * 9210, metric = 10.28% * 9210 82.455s (111.7 samples/s);\n",
      "Finished Evaluation [6]: Minibatch[1-85]: metric = 12.71% * 1157;\n",
      " Minibatch[   1- 150]: loss = 0.242567 * 2078, metric = 9.58% * 2078;\n",
      " Minibatch[ 151- 300]: loss = 0.245397 * 2023, metric = 9.59% * 2023;\n",
      " Minibatch[ 301- 450]: loss = 0.236596 * 2045, metric = 9.14% * 2045;\n",
      " Minibatch[ 451- 600]: loss = 0.242825 * 2037, metric = 9.97% * 2037;\n",
      "Finished Epoch[7 of 10]: [Training] loss = 0.240781 * 9216, metric = 9.58% * 9216 81.588s (113.0 samples/s);\n",
      "Finished Evaluation [7]: Minibatch[1-85]: metric = 13.34% * 1162;\n",
      " Minibatch[   1- 150]: loss = 0.233340 * 2071, metric = 9.03% * 2071;\n",
      " Minibatch[ 151- 300]: loss = 0.228671 * 2026, metric = 8.34% * 2026;\n",
      " Minibatch[ 301- 450]: loss = 0.234226 * 2005, metric = 9.93% * 2005;\n",
      " Minibatch[ 451- 600]: loss = 0.223288 * 2059, metric = 8.98% * 2059;\n",
      "Finished Epoch[8 of 10]: [Training] loss = 0.229770 * 9216, metric = 9.24% * 9216 82.901s (111.2 samples/s);\n",
      "Finished Evaluation [8]: Minibatch[1-86]: metric = 12.31% * 1162;\n",
      " Minibatch[   1- 150]: loss = 0.220555 * 2037, metric = 8.64% * 2037;\n",
      " Minibatch[ 151- 300]: loss = 0.205945 * 2061, metric = 8.49% * 2061;\n",
      " Minibatch[ 301- 450]: loss = 0.212613 * 1990, metric = 8.69% * 1990;\n",
      " Minibatch[ 451- 600]: loss = 0.219392 * 2051, metric = 8.92% * 2051;\n",
      "Finished Epoch[9 of 10]: [Training] loss = 0.214511 * 9210, metric = 8.58% * 9210 79.282s (116.2 samples/s);\n",
      "Finished Evaluation [9]: Minibatch[1-85]: metric = 12.84% * 1153;\n",
      " Minibatch[   1- 150]: loss = 0.198110 * 2055, metric = 8.03% * 2055;\n",
      " Minibatch[ 151- 300]: loss = 0.209737 * 2022, metric = 8.80% * 2022;\n",
      " Minibatch[ 301- 450]: loss = 0.201536 * 2042, metric = 8.52% * 2042;\n",
      " Minibatch[ 451- 600]: loss = 0.216523 * 2040, metric = 8.92% * 2040;\n",
      "Finished Epoch[10 of 10]: [Training] loss = 0.204608 * 9207, metric = 8.45% * 9207 76.425s (120.5 samples/s);\n",
      "Finished Evaluation [10]: Minibatch[1-84]: metric = 13.28% * 1152;\n"
     ]
    }
   ],
   "source": [
    "from preprocess.common import ADDITIONAL_TOKEN\n",
    "\n",
    "# Model dimensions\n",
    "input_dim = 300 + len(ADDITIONAL_TOKEN) + 1\n",
    "hidden_dim = 900\n",
    "num_classes = 3\n",
    "\n",
    "reader = create_reader(train_path, True, input_dim, num_classes)\n",
    "reader_val = create_reader(val_path, True, input_dim, num_classes)\n",
    "\n",
    "# Input variables denoting the features and label data\n",
    "features = C.sequence.input_variable(shape=input_dim, is_sparse=False)\n",
    "labels = C.input_variable(num_classes)\n",
    "\n",
    "# Instantiate the sequence classification model\n",
    "model_func = lstm_sequence_classifier(features, num_classes, hidden_dim)\n",
    "model = model_func(features)\n",
    "\n",
    "# Create criterion\n",
    "loss        = C.cross_entropy_with_softmax(model, labels)\n",
    "label_error = C.classification_error(model, labels)\n",
    "\n",
    "history = train(reader, reader_val, model, loss, label_error)"
   ]
  },
  {
   "cell_type": "code",
   "execution_count": 7,
   "metadata": {},
   "outputs": [
    {
     "data": {
      "image/png": "[encoded data removed]",
      "text/plain": [
       "<matplotlib.figure.Figure at 0x7fd23ec21198>"
      ]
     },
     "metadata": {},
     "output_type": "display_data"
    }
   ],
   "source": [
    "fig, ax = plt.subplots(1)\n",
    "ax.plot(history[0], 'rx-', label='Train error')\n",
    "ax.plot(history[1], 'bo-', label='Validation error')\n",
    "ax.set_xlabel('epoch')\n",
    "ax.set_ylabel('error rate')\n",
    "ax.yaxis.grid('on')\n",
    "ax.legend()\n",
    "\n",
    "fig.savefig('outputs/train_history.png')\n"
   ]
  },
  {
   "cell_type": "markdown",
   "metadata": {},
   "source": [
    "#### Test the model"
   ]
  },
  {
   "cell_type": "code",
   "execution_count": null,
   "metadata": {},
   "outputs": [],
   "source": [
    "reader_test = create_reader(val_path, False, input_dim, num_classes)\n",
    "\n",
    "test_minibatch_size = 1000\n",
    "\n",
    "input_map = {\n",
    "    features : reader.streams.features,\n",
    "    labels   : reader.streams.labels\n",
    "}\n",
    "\n",
    "progress_printer = C.logging.ProgressPrinter(tag='Evaluation', num_epochs=0)\n",
    "evaluator = C.eval.Evaluator(label_error, progress_printer)\n",
    "\n",
    "while True:\n",
    "    mb = reader_test.next_minibatch(test_minibatch_size, input_map=input_map)\n",
    "    if not mb:\n",
    "        break\n",
    "    eval_error = evaluator.test_minibatch(mb)\n",
    "\n",
    "evaluator.summarize_test_progress()"
   ]
  },
  {
   "cell_type": "markdown",
   "metadata": {},
   "source": [
    "#### Save the model"
   ]
  },
  {
   "cell_type": "code",
   "execution_count": 12,
   "metadata": {},
   "outputs": [],
   "source": [
    "model_path = 'outputs/model.cmf'\n",
    "model.save(model_path)"
   ]
  },
  {
   "cell_type": "markdown",
   "metadata": {},
   "source": [
    "#### Test the saved model"
   ]
  },
  {
   "cell_type": "code",
   "execution_count": 15,
   "metadata": {},
   "outputs": [
    {
     "name": "stdout",
     "output_type": "stream",
     "text": [
      "[nltk_data] Downloading package punkt to /home/mmlspark/nltk_data...\n",
      "[nltk_data]   Unzipping tokenizers/punkt.zip.\n"
     ]
    },
    {
     "data": {
      "text/plain": [
       "True"
      ]
     },
     "execution_count": 15,
     "metadata": {},
     "output_type": "execute_result"
    }
   ],
   "source": [
    "# Download the punkt corpus first\n",
    "import nltk\n",
    "nltk.download('punkt')"
   ]
  },
  {
   "cell_type": "code",
   "execution_count": 17,
   "metadata": {},
   "outputs": [
    {
     "name": "stdout",
     "output_type": "stream",
     "text": [
      "[[39853, 59425, 70309, 87407], [20052, 95297, 95074, 59425, 70309, 87407]]\n",
      "[[ 1.74848282 -0.71896964 -2.50516701]\n",
      " [-0.08711873  2.32584882 -2.38609338]]\n",
      "['objective', 'subjective']\n"
     ]
    }
   ],
   "source": [
    "from preprocess.normalize_sentences import SentenceNormalizer\n",
    "from cntk.ops.functions import load_model\n",
    "\n",
    "saved_model = load_model(model_path)\n",
    "vocab_size = 101590\n",
    "\n",
    "with open('dictionary.txt', 'r', encoding='utf-8') as f:\n",
    "    dictionary = f.read().strip().split('\\n') \n",
    "\n",
    "sent_normalizer = SentenceNormalizer(dictionary=dictionary)\n",
    "normalized = sent_normalizer.fit_transform(\n",
    "    [\"The earth is round\",\n",
    "     \"I think the earth is round\"], to_index=True)\n",
    "\n",
    "print(normalized)\n",
    "pred_score = saved_model(C.Value.one_hot(normalized, vocab_size))\n",
    "print(pred_score)\n",
    "\n",
    "pred_class = np.argmax(pred_score, axis=1)\n",
    "labels = []\n",
    "with open('labels.txt', 'r', encoding='utf-8') as f:\n",
    "    labels = f.read().strip().split('\\n')\n",
    "pred_class = [labels[p] for p in pred_class]\n",
    "print(pred_class)\n"
   ]
  },
  {
   "cell_type": "code",
   "execution_count": null,
   "metadata": {},
   "outputs": [],
   "source": []
  }
 ],
 "metadata": {
  "kernelspec": {
   "display_name": "FactOrFictionML dsvm",
   "language": "python",
   "name": "factorfictionml_dsvm"
  },
  "language_info": {
   "codemirror_mode": {
    "name": "ipython",
    "version": 3
   },
   "file_extension": ".py",
   "mimetype": "text/x-python",
   "name": "python",
   "nbconvert_exporter": "python",
   "pygments_lexer": "ipython3",
   "version": "3.5.2"
  }
 },
 "nbformat": 4,
 "nbformat_minor": 2
}
